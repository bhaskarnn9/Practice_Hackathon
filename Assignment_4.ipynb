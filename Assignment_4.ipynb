{
 "nbformat": 4,
 "nbformat_minor": 2,
 "metadata": {
  "language_info": {
   "name": "python",
   "codemirror_mode": {
    "name": "ipython",
    "version": 3
   },
   "version": "3.7.6-final"
  },
  "orig_nbformat": 2,
  "file_extension": ".py",
  "mimetype": "text/x-python",
  "name": "python",
  "npconvert_exporter": "python",
  "pygments_lexer": "ipython3",
  "version": 3,
  "kernelspec": {
   "name": "python37464bitenvdatasciencevenv251b518b85614e7fac722d7caf80564f",
   "display_name": "Python 3.7.4 64-bit ('env_datascience': venv)"
  }
 },
 "cells": [
  {
   "cell_type": "code",
   "execution_count": 1,
   "metadata": {},
   "outputs": [],
   "source": [
    "## data manipulation\n",
    "import numpy as np\n",
    "import pandas as pd\n",
    "from string import ascii_letters\n",
    "\n",
    "## visualization\n",
    "import seaborn as sns\n",
    "import scipy.stats as ss\n",
    "import matplotlib.pyplot as plt\n",
    "\n",
    "## preprocessing\n",
    "from sklearn.preprocessing import OneHotEncoder\n",
    "\n",
    "## modelling\n",
    "from sklearn.metrics import accuracy_score"
   ]
  },
  {
   "cell_type": "code",
   "execution_count": 2,
   "metadata": {},
   "outputs": [
    {
     "data": {
      "text/html": "<div>\n<style scoped>\n    .dataframe tbody tr th:only-of-type {\n        vertical-align: middle;\n    }\n\n    .dataframe tbody tr th {\n        vertical-align: top;\n    }\n\n    .dataframe thead th {\n        text-align: right;\n    }\n</style>\n<table border=\"1\" class=\"dataframe\">\n  <thead>\n    <tr style=\"text-align: right;\">\n      <th></th>\n      <th>class</th>\n      <th>lepton_pT</th>\n      <th>lepton_eta</th>\n      <th>lepton_phi</th>\n      <th>missing_energy_magnitude</th>\n      <th>missing_energy_phi</th>\n      <th>jet1pt</th>\n      <th>jet1eta</th>\n      <th>jet1phi</th>\n      <th>jet1b.tag</th>\n      <th>...</th>\n      <th>jet4phi</th>\n      <th>jet4b.tag</th>\n      <th>m_jj</th>\n      <th>m_jjj</th>\n      <th>m_lv</th>\n      <th>m_jlv</th>\n      <th>m_bb</th>\n      <th>m_wbb</th>\n      <th>m_wwbb</th>\n      <th>id</th>\n    </tr>\n  </thead>\n  <tbody>\n    <tr>\n      <th>0</th>\n      <td>1</td>\n      <td>0.907542</td>\n      <td>0.329147</td>\n      <td>0.359412</td>\n      <td>1.497970</td>\n      <td>-0.313010</td>\n      <td>1.095531</td>\n      <td>-0.557525</td>\n      <td>-1.588230</td>\n      <td>2.173076</td>\n      <td>...</td>\n      <td>-0.000819</td>\n      <td>0.000000</td>\n      <td>0.302220</td>\n      <td>0.833048</td>\n      <td>0.985700</td>\n      <td>0.978098</td>\n      <td>0.779732</td>\n      <td>0.992356</td>\n      <td>0.798343</td>\n      <td>1</td>\n    </tr>\n    <tr>\n      <th>1</th>\n      <td>1</td>\n      <td>0.798835</td>\n      <td>1.470639</td>\n      <td>-1.635975</td>\n      <td>0.453773</td>\n      <td>0.425629</td>\n      <td>1.104875</td>\n      <td>1.282322</td>\n      <td>1.381664</td>\n      <td>0.000000</td>\n      <td>...</td>\n      <td>0.900461</td>\n      <td>0.000000</td>\n      <td>0.909753</td>\n      <td>1.108330</td>\n      <td>0.985692</td>\n      <td>0.951331</td>\n      <td>0.803252</td>\n      <td>0.865924</td>\n      <td>0.780118</td>\n      <td>2</td>\n    </tr>\n    <tr>\n      <th>2</th>\n      <td>0</td>\n      <td>1.344385</td>\n      <td>-0.876626</td>\n      <td>0.935913</td>\n      <td>1.992050</td>\n      <td>0.882454</td>\n      <td>1.786066</td>\n      <td>-1.646778</td>\n      <td>-0.942383</td>\n      <td>0.000000</td>\n      <td>...</td>\n      <td>-1.360356</td>\n      <td>0.000000</td>\n      <td>0.946652</td>\n      <td>1.028704</td>\n      <td>0.998656</td>\n      <td>0.728281</td>\n      <td>0.869200</td>\n      <td>1.026736</td>\n      <td>0.957904</td>\n      <td>3</td>\n    </tr>\n    <tr>\n      <th>3</th>\n      <td>0</td>\n      <td>1.595839</td>\n      <td>-0.607811</td>\n      <td>0.007075</td>\n      <td>1.818450</td>\n      <td>-0.111906</td>\n      <td>0.847550</td>\n      <td>-0.566437</td>\n      <td>1.581239</td>\n      <td>2.173076</td>\n      <td>...</td>\n      <td>-1.274345</td>\n      <td>3.101961</td>\n      <td>0.823761</td>\n      <td>0.938191</td>\n      <td>0.971758</td>\n      <td>0.789176</td>\n      <td>0.430553</td>\n      <td>0.961357</td>\n      <td>0.957818</td>\n      <td>4</td>\n    </tr>\n    <tr>\n      <th>4</th>\n      <td>1</td>\n      <td>0.409391</td>\n      <td>-1.884684</td>\n      <td>-1.027292</td>\n      <td>1.672452</td>\n      <td>-1.604598</td>\n      <td>1.338015</td>\n      <td>0.055427</td>\n      <td>0.013466</td>\n      <td>2.173076</td>\n      <td>...</td>\n      <td>1.377130</td>\n      <td>3.101961</td>\n      <td>0.869418</td>\n      <td>1.222083</td>\n      <td>1.000627</td>\n      <td>0.545045</td>\n      <td>0.698653</td>\n      <td>0.977314</td>\n      <td>0.828786</td>\n      <td>5</td>\n    </tr>\n  </tbody>\n</table>\n<p>5 rows × 30 columns</p>\n</div>",
      "text/plain": "   class  lepton_pT  lepton_eta  lepton_phi  missing_energy_magnitude  \\\n0      1   0.907542    0.329147    0.359412                  1.497970   \n1      1   0.798835    1.470639   -1.635975                  0.453773   \n2      0   1.344385   -0.876626    0.935913                  1.992050   \n3      0   1.595839   -0.607811    0.007075                  1.818450   \n4      1   0.409391   -1.884684   -1.027292                  1.672452   \n\n   missing_energy_phi    jet1pt   jet1eta   jet1phi  jet1b.tag  ...   jet4phi  \\\n0           -0.313010  1.095531 -0.557525 -1.588230   2.173076  ... -0.000819   \n1            0.425629  1.104875  1.282322  1.381664   0.000000  ...  0.900461   \n2            0.882454  1.786066 -1.646778 -0.942383   0.000000  ... -1.360356   \n3           -0.111906  0.847550 -0.566437  1.581239   2.173076  ... -1.274345   \n4           -1.604598  1.338015  0.055427  0.013466   2.173076  ...  1.377130   \n\n   jet4b.tag      m_jj     m_jjj      m_lv     m_jlv      m_bb     m_wbb  \\\n0   0.000000  0.302220  0.833048  0.985700  0.978098  0.779732  0.992356   \n1   0.000000  0.909753  1.108330  0.985692  0.951331  0.803252  0.865924   \n2   0.000000  0.946652  1.028704  0.998656  0.728281  0.869200  1.026736   \n3   3.101961  0.823761  0.938191  0.971758  0.789176  0.430553  0.961357   \n4   3.101961  0.869418  1.222083  1.000627  0.545045  0.698653  0.977314   \n\n     m_wwbb  id  \n0  0.798343   1  \n1  0.780118   2  \n2  0.957904   3  \n3  0.957818   4  \n4  0.828786   5  \n\n[5 rows x 30 columns]"
     },
     "execution_count": 2,
     "metadata": {},
     "output_type": "execute_result"
    }
   ],
   "source": [
    "train_raw = pd.read_csv('input/CSE7302c_train-1539668060821.csv', na_values='?')\n",
    "train_raw.head()"
   ]
  },
  {
   "cell_type": "code",
   "execution_count": 3,
   "metadata": {},
   "outputs": [
    {
     "data": {
      "text/html": "<div>\n<style scoped>\n    .dataframe tbody tr th:only-of-type {\n        vertical-align: middle;\n    }\n\n    .dataframe tbody tr th {\n        vertical-align: top;\n    }\n\n    .dataframe thead th {\n        text-align: right;\n    }\n</style>\n<table border=\"1\" class=\"dataframe\">\n  <thead>\n    <tr style=\"text-align: right;\">\n      <th></th>\n      <th>class</th>\n      <th>lepton_pT</th>\n      <th>lepton_eta</th>\n      <th>lepton_phi</th>\n      <th>missing_energy_magnitude</th>\n      <th>missing_energy_phi</th>\n      <th>jet1pt</th>\n      <th>jet1eta</th>\n      <th>jet1phi</th>\n      <th>jet1b.tag</th>\n      <th>...</th>\n      <th>jet4phi</th>\n      <th>jet4b.tag</th>\n      <th>m_jj</th>\n      <th>m_jjj</th>\n      <th>m_lv</th>\n      <th>m_jlv</th>\n      <th>m_bb</th>\n      <th>m_wbb</th>\n      <th>m_wwbb</th>\n      <th>id</th>\n    </tr>\n  </thead>\n  <tbody>\n    <tr>\n      <th>0</th>\n      <td>1</td>\n      <td>1.105009</td>\n      <td>0.321356</td>\n      <td>1.522401</td>\n      <td>0.882808</td>\n      <td>-1.205349</td>\n      <td>0.681466</td>\n      <td>-1.070464</td>\n      <td>-0.921871</td>\n      <td>0.000000</td>\n      <td>...</td>\n      <td>0.113041</td>\n      <td>0.000000</td>\n      <td>0.755856</td>\n      <td>1.361057</td>\n      <td>0.986610</td>\n      <td>0.838085</td>\n      <td>1.133295</td>\n      <td>0.872245</td>\n      <td>0.808487</td>\n      <td>68637</td>\n    </tr>\n    <tr>\n      <th>1</th>\n      <td>1</td>\n      <td>1.176566</td>\n      <td>0.104161</td>\n      <td>1.397002</td>\n      <td>0.479721</td>\n      <td>0.265513</td>\n      <td>1.135563</td>\n      <td>1.534831</td>\n      <td>-0.253291</td>\n      <td>0.000000</td>\n      <td>...</td>\n      <td>0.530334</td>\n      <td>0.000000</td>\n      <td>0.833175</td>\n      <td>0.773968</td>\n      <td>0.985750</td>\n      <td>1.103696</td>\n      <td>0.849140</td>\n      <td>0.937104</td>\n      <td>0.812364</td>\n      <td>68638</td>\n    </tr>\n    <tr>\n      <th>2</th>\n      <td>1</td>\n      <td>1.384098</td>\n      <td>0.116822</td>\n      <td>-1.179879</td>\n      <td>0.762913</td>\n      <td>-0.079782</td>\n      <td>1.019863</td>\n      <td>0.877318</td>\n      <td>1.276887</td>\n      <td>2.173076</td>\n      <td>...</td>\n      <td>0.504809</td>\n      <td>3.101961</td>\n      <td>0.959325</td>\n      <td>0.807376</td>\n      <td>1.191814</td>\n      <td>1.221210</td>\n      <td>0.861141</td>\n      <td>0.929341</td>\n      <td>0.838302</td>\n      <td>68639</td>\n    </tr>\n    <tr>\n      <th>3</th>\n      <td>1</td>\n      <td>1.330110</td>\n      <td>0.201557</td>\n      <td>1.173393</td>\n      <td>0.135309</td>\n      <td>-1.083159</td>\n      <td>0.728461</td>\n      <td>1.109032</td>\n      <td>-0.539903</td>\n      <td>1.086538</td>\n      <td>...</td>\n      <td>0.054775</td>\n      <td>3.101961</td>\n      <td>0.782073</td>\n      <td>0.672103</td>\n      <td>0.990002</td>\n      <td>0.734279</td>\n      <td>0.379074</td>\n      <td>0.764760</td>\n      <td>0.642924</td>\n      <td>68640</td>\n    </tr>\n    <tr>\n      <th>4</th>\n      <td>0</td>\n      <td>1.289848</td>\n      <td>-1.423023</td>\n      <td>-0.687162</td>\n      <td>0.131103</td>\n      <td>-1.135935</td>\n      <td>0.821350</td>\n      <td>0.296053</td>\n      <td>0.167582</td>\n      <td>2.173076</td>\n      <td>...</td>\n      <td>0.727328</td>\n      <td>0.000000</td>\n      <td>1.006643</td>\n      <td>0.867914</td>\n      <td>0.999090</td>\n      <td>1.109608</td>\n      <td>1.125094</td>\n      <td>0.882899</td>\n      <td>0.859396</td>\n      <td>68641</td>\n    </tr>\n  </tbody>\n</table>\n<p>5 rows × 30 columns</p>\n</div>",
      "text/plain": "   class  lepton_pT  lepton_eta  lepton_phi  missing_energy_magnitude  \\\n0      1   1.105009    0.321356    1.522401                  0.882808   \n1      1   1.176566    0.104161    1.397002                  0.479721   \n2      1   1.384098    0.116822   -1.179879                  0.762913   \n3      1   1.330110    0.201557    1.173393                  0.135309   \n4      0   1.289848   -1.423023   -0.687162                  0.131103   \n\n   missing_energy_phi    jet1pt   jet1eta   jet1phi  jet1b.tag  ...   jet4phi  \\\n0           -1.205349  0.681466 -1.070464 -0.921871   0.000000  ...  0.113041   \n1            0.265513  1.135563  1.534831 -0.253291   0.000000  ...  0.530334   \n2           -0.079782  1.019863  0.877318  1.276887   2.173076  ...  0.504809   \n3           -1.083159  0.728461  1.109032 -0.539903   1.086538  ...  0.054775   \n4           -1.135935  0.821350  0.296053  0.167582   2.173076  ...  0.727328   \n\n   jet4b.tag      m_jj     m_jjj      m_lv     m_jlv      m_bb     m_wbb  \\\n0   0.000000  0.755856  1.361057  0.986610  0.838085  1.133295  0.872245   \n1   0.000000  0.833175  0.773968  0.985750  1.103696  0.849140  0.937104   \n2   3.101961  0.959325  0.807376  1.191814  1.221210  0.861141  0.929341   \n3   3.101961  0.782073  0.672103  0.990002  0.734279  0.379074  0.764760   \n4   0.000000  1.006643  0.867914  0.999090  1.109608  1.125094  0.882899   \n\n     m_wwbb     id  \n0  0.808487  68637  \n1  0.812364  68638  \n2  0.838302  68639  \n3  0.642924  68640  \n4  0.859396  68641  \n\n[5 rows x 30 columns]"
     },
     "execution_count": 3,
     "metadata": {},
     "output_type": "execute_result"
    }
   ],
   "source": [
    "test_raw = pd.read_csv('input/CSE7302c_test-1539668060821.csv', na_values='?')\n",
    "test_raw.head()"
   ]
  },
  {
   "cell_type": "code",
   "execution_count": 4,
   "metadata": {},
   "outputs": [
    {
     "data": {
      "text/plain": "class                           2\nlepton_pT                   18514\nlepton_eta                   8919\nlepton_phi                  11806\nmissing_energy_magnitude    66854\nmissing_energy_phi          66804\njet1pt                      25954\njet1eta                      9422\njet1phi                     11713\njet1b.tag                       5\njet2pt                      22270\njet2eta                      9658\njet2phi                     11827\njet2b.tag                       5\njet3pt                      17882\njet3eta                     10089\njet3phi                     11753\njet3b.tag                       5\njet4pt                      13935\njet4eta                     10516\njet4phi                     11801\njet4b.tag                       5\nm_jj                        65748\nm_jjj                       57372\nm_lv                        42247\nm_jlv                       60935\nm_bb                        62851\nm_wbb                       63301\nm_wwbb                      64483\nid                          68636\ndtype: int64"
     },
     "execution_count": 4,
     "metadata": {},
     "output_type": "execute_result"
    }
   ],
   "source": [
    "train_raw.nunique()"
   ]
  },
  {
   "cell_type": "code",
   "execution_count": 5,
   "metadata": {},
   "outputs": [
    {
     "data": {
      "text/plain": "class                           2\nlepton_pT                   13786\nlepton_eta                   7895\nlepton_phi                  10476\nmissing_energy_magnitude    29132\nmissing_energy_phi          29138\njet1pt                      17678\njet1eta                      7838\njet1phi                     10383\njet1b.tag                       5\njet2pt                      15784\njet2eta                      8145\njet2phi                     10507\njet2b.tag                       5\njet3pt                      13492\njet3eta                      8498\njet3phi                     10487\njet3b.tag                       5\njet4pt                      10920\njet4eta                      8978\njet4phi                      6233\njet4b.tag                       3\nm_jj                        28628\nm_jjj                       26074\nm_lv                        20085\nm_jlv                       27166\nm_bb                        27697\nm_wbb                       27977\nm_wwbb                      28235\nid                          29414\ndtype: int64"
     },
     "execution_count": 5,
     "metadata": {},
     "output_type": "execute_result"
    }
   ],
   "source": [
    "test_raw.nunique()"
   ]
  },
  {
   "cell_type": "code",
   "execution_count": 7,
   "metadata": {},
   "outputs": [
    {
     "name": "stdout",
     "output_type": "stream",
     "text": "<class 'pandas.core.frame.DataFrame'>\nInt64Index: 29413 entries, 0 to 29412\nData columns (total 30 columns):\nclass                       29413 non-null int64\nlepton_pT                   29413 non-null float64\nlepton_eta                  29413 non-null float64\nlepton_phi                  29413 non-null float64\nmissing_energy_magnitude    29413 non-null float64\nmissing_energy_phi          29413 non-null float64\njet1pt                      29413 non-null float64\njet1eta                     29413 non-null float64\njet1phi                     29413 non-null float64\njet1b.tag                   29413 non-null float64\njet2pt                      29413 non-null float64\njet2eta                     29413 non-null float64\njet2phi                     29413 non-null float64\njet2b.tag                   29413 non-null float64\njet3pt                      29413 non-null float64\njet3eta                     29413 non-null float64\njet3phi                     29413 non-null float64\njet3b.tag                   29413 non-null float64\njet4pt                      29413 non-null float64\njet4eta                     29413 non-null float64\njet4phi                     29413 non-null float64\njet4b.tag                   29413 non-null float64\nm_jj                        29413 non-null float64\nm_jjj                       29413 non-null float64\nm_lv                        29413 non-null float64\nm_jlv                       29413 non-null float64\nm_bb                        29413 non-null float64\nm_wbb                       29413 non-null float64\nm_wwbb                      29413 non-null float64\nid                          29413 non-null int64\ndtypes: float64(28), int64(2)\nmemory usage: 7.0 MB\n"
    }
   ],
   "source": [
    "## drop loast row since that has all the NA values\n",
    "test_raw.drop(test_raw.index[[test_raw.shape[0]-1]], inplace=True)\n",
    "test_raw.info()"
   ]
  },
  {
   "cell_type": "code",
   "execution_count": 6,
   "metadata": {},
   "outputs": [
    {
     "data": {
      "text/plain": "class                       0\nlepton_pT                   0\nlepton_eta                  0\nlepton_phi                  0\nmissing_energy_magnitude    0\nmissing_energy_phi          0\njet1pt                      0\njet1eta                     0\njet1phi                     0\njet1b.tag                   0\njet2pt                      0\njet2eta                     0\njet2phi                     0\njet2b.tag                   0\njet3pt                      0\njet3eta                     0\njet3phi                     0\njet3b.tag                   0\njet4pt                      0\njet4eta                     0\njet4phi                     1\njet4b.tag                   1\nm_jj                        1\nm_jjj                       1\nm_lv                        1\nm_jlv                       1\nm_bb                        1\nm_wbb                       1\nm_wwbb                      1\nid                          0\ndtype: int64"
     },
     "execution_count": 6,
     "metadata": {},
     "output_type": "execute_result"
    }
   ],
   "source": [
    "test_raw.isna().sum()"
   ]
  },
  {
   "cell_type": "code",
   "execution_count": 8,
   "metadata": {},
   "outputs": [],
   "source": [
    "## we know that \n",
    "# train size:  68636  observations  30 attributes\n",
    "# test size:   29414 observations 30 attributes\n",
    "\n",
    "# We have 68636 and 29414 unique ids in train and test respectively and this nominal data can be removed.\n",
    "# Let's also remove target variable\n",
    "train_data = train_raw.drop(['id', 'class'], axis=1)\n",
    "test_data = test_raw.drop(['id', 'class'], axis=1)"
   ]
  },
  {
   "cell_type": "code",
   "execution_count": 9,
   "metadata": {},
   "outputs": [],
   "source": [
    "from sklearn.model_selection import train_test_split\n",
    "X_train, X_valid, y_train, y_valid = train_test_split(train_data, train_raw['class'], test_size=0.3, random_state=42)\n",
    "X_test, y_test = test_data, test_raw['class'].astype('category')"
   ]
  },
  {
   "cell_type": "code",
   "execution_count": 10,
   "metadata": {},
   "outputs": [
    {
     "name": "stdout",
     "output_type": "stream",
     "text": "shape of X_train: (48045, 28)\nshape of X_valid: (20591, 28)\nshape of X_test: (29413, 28)\n"
    }
   ],
   "source": [
    "print(f'shape of X_train: {X_train.shape}')\n",
    "print(f'shape of X_valid: {X_valid.shape}')\n",
    "print(f'shape of X_test: {X_test.shape}')"
   ]
  },
  {
   "cell_type": "code",
   "execution_count": 11,
   "metadata": {},
   "outputs": [
    {
     "name": "stdout",
     "output_type": "stream",
     "text": "Index(['jet1b.tag', 'jet2b.tag', 'jet3b.tag', 'jet4b.tag'], dtype='object')\n"
    },
    {
     "data": {
      "text/plain": "Index(['lepton_pT', 'lepton_eta', 'lepton_phi', 'missing_energy_magnitude',\n       'missing_energy_phi', 'jet1pt', 'jet1eta', 'jet1phi', 'jet2pt',\n       'jet2eta', 'jet2phi', 'jet3pt', 'jet3eta', 'jet3phi', 'jet4pt',\n       'jet4eta', 'jet4phi', 'm_jj', 'm_jjj', 'm_lv', 'm_jlv', 'm_bb', 'm_wbb',\n       'm_wwbb'],\n      dtype='object')"
     },
     "execution_count": 11,
     "metadata": {},
     "output_type": "execute_result"
    }
   ],
   "source": [
    "cat_cols = X_train.columns[X_train.nunique() <= 5]\n",
    "print(cat_cols)\n",
    "num_cols = X_train.columns[X_train.nunique() > 5]\n",
    "num_cols"
   ]
  },
  {
   "cell_type": "code",
   "execution_count": 12,
   "metadata": {},
   "outputs": [],
   "source": [
    "## type casting\n",
    "# train\n",
    "X_train[cat_cols] = X_train[cat_cols].astype('category')\n",
    "# validation\n",
    "X_valid[cat_cols] = X_valid[cat_cols].astype('category')\n",
    "# test\n",
    "X_test[cat_cols] = X_test[cat_cols].astype('category')"
   ]
  },
  {
   "cell_type": "code",
   "execution_count": 13,
   "metadata": {},
   "outputs": [
    {
     "data": {
      "text/plain": "array(['jet1b.tag_0.0', 'jet1b.tag_1.086538',\n       'jet1b.tag_1.0865380759999999', 'jet1b.tag_2.173076',\n       'jet1b.tag_2.1730761530000002', 'jet2b.tag_0.0',\n       'jet2b.tag_1.107436', 'jet2b.tag_1.107436061',\n       'jet2b.tag_2.214872', 'jet2b.tag_2.214872122', 'jet3b.tag_0.0',\n       'jet3b.tag_1.2741120000000001', 'jet3b.tag_1.274112225',\n       'jet3b.tag_2.5482240000000003', 'jet3b.tag_2.548224449',\n       'jet4b.tag_0.0', 'jet4b.tag_1.5509806869999998',\n       'jet4b.tag_1.550981', 'jet4b.tag_3.101961',\n       'jet4b.tag_3.1019613739999996'], dtype=object)"
     },
     "execution_count": 13,
     "metadata": {},
     "output_type": "execute_result"
    }
   ],
   "source": [
    "## LabelEncoder\n",
    "onehotencoder = OneHotEncoder(handle_unknown='ignore')\n",
    "\n",
    "## Fit method\n",
    "onehotencoder = onehotencoder.fit(X_train[cat_cols])\n",
    "\n",
    "## Get names for new columns\n",
    "ohe_cat_col_names = onehotencoder.get_feature_names(cat_cols)\n",
    "\n",
    "## Print the above columns names\n",
    "ohe_cat_col_names"
   ]
  },
  {
   "cell_type": "code",
   "execution_count": 14,
   "metadata": {},
   "outputs": [
    {
     "name": "stdout",
     "output_type": "stream",
     "text": "shape of X_train_cat_onehotencoded: (48045, 20)\n"
    },
    {
     "data": {
      "text/html": "<div>\n<style scoped>\n    .dataframe tbody tr th:only-of-type {\n        vertical-align: middle;\n    }\n\n    .dataframe tbody tr th {\n        vertical-align: top;\n    }\n\n    .dataframe thead th {\n        text-align: right;\n    }\n</style>\n<table border=\"1\" class=\"dataframe\">\n  <thead>\n    <tr style=\"text-align: right;\">\n      <th></th>\n      <th>jet1b.tag_0.0</th>\n      <th>jet1b.tag_1.086538</th>\n      <th>jet1b.tag_1.0865380759999999</th>\n      <th>jet1b.tag_2.173076</th>\n      <th>jet1b.tag_2.1730761530000002</th>\n      <th>jet2b.tag_0.0</th>\n      <th>jet2b.tag_1.107436</th>\n      <th>jet2b.tag_1.107436061</th>\n      <th>jet2b.tag_2.214872</th>\n      <th>jet2b.tag_2.214872122</th>\n      <th>jet3b.tag_0.0</th>\n      <th>jet3b.tag_1.2741120000000001</th>\n      <th>jet3b.tag_1.274112225</th>\n      <th>jet3b.tag_2.5482240000000003</th>\n      <th>jet3b.tag_2.548224449</th>\n      <th>jet4b.tag_0.0</th>\n      <th>jet4b.tag_1.5509806869999998</th>\n      <th>jet4b.tag_1.550981</th>\n      <th>jet4b.tag_3.101961</th>\n      <th>jet4b.tag_3.1019613739999996</th>\n    </tr>\n  </thead>\n  <tbody>\n    <tr>\n      <th>0</th>\n      <td>0.0</td>\n      <td>0.0</td>\n      <td>0.0</td>\n      <td>1.0</td>\n      <td>0.0</td>\n      <td>1.0</td>\n      <td>0.0</td>\n      <td>0.0</td>\n      <td>0.0</td>\n      <td>0.0</td>\n      <td>0.0</td>\n      <td>0.0</td>\n      <td>0.0</td>\n      <td>1.0</td>\n      <td>0.0</td>\n      <td>1.0</td>\n      <td>0.0</td>\n      <td>0.0</td>\n      <td>0.0</td>\n      <td>0.0</td>\n    </tr>\n    <tr>\n      <th>1</th>\n      <td>0.0</td>\n      <td>0.0</td>\n      <td>0.0</td>\n      <td>0.0</td>\n      <td>1.0</td>\n      <td>1.0</td>\n      <td>0.0</td>\n      <td>0.0</td>\n      <td>0.0</td>\n      <td>0.0</td>\n      <td>0.0</td>\n      <td>0.0</td>\n      <td>0.0</td>\n      <td>0.0</td>\n      <td>1.0</td>\n      <td>1.0</td>\n      <td>0.0</td>\n      <td>0.0</td>\n      <td>0.0</td>\n      <td>0.0</td>\n    </tr>\n    <tr>\n      <th>2</th>\n      <td>0.0</td>\n      <td>0.0</td>\n      <td>1.0</td>\n      <td>0.0</td>\n      <td>0.0</td>\n      <td>1.0</td>\n      <td>0.0</td>\n      <td>0.0</td>\n      <td>0.0</td>\n      <td>0.0</td>\n      <td>0.0</td>\n      <td>0.0</td>\n      <td>1.0</td>\n      <td>0.0</td>\n      <td>0.0</td>\n      <td>1.0</td>\n      <td>0.0</td>\n      <td>0.0</td>\n      <td>0.0</td>\n      <td>0.0</td>\n    </tr>\n    <tr>\n      <th>3</th>\n      <td>0.0</td>\n      <td>0.0</td>\n      <td>0.0</td>\n      <td>1.0</td>\n      <td>0.0</td>\n      <td>0.0</td>\n      <td>0.0</td>\n      <td>0.0</td>\n      <td>1.0</td>\n      <td>0.0</td>\n      <td>1.0</td>\n      <td>0.0</td>\n      <td>0.0</td>\n      <td>0.0</td>\n      <td>0.0</td>\n      <td>1.0</td>\n      <td>0.0</td>\n      <td>0.0</td>\n      <td>0.0</td>\n      <td>0.0</td>\n    </tr>\n    <tr>\n      <th>4</th>\n      <td>0.0</td>\n      <td>0.0</td>\n      <td>1.0</td>\n      <td>0.0</td>\n      <td>0.0</td>\n      <td>1.0</td>\n      <td>0.0</td>\n      <td>0.0</td>\n      <td>0.0</td>\n      <td>0.0</td>\n      <td>0.0</td>\n      <td>0.0</td>\n      <td>0.0</td>\n      <td>0.0</td>\n      <td>1.0</td>\n      <td>1.0</td>\n      <td>0.0</td>\n      <td>0.0</td>\n      <td>0.0</td>\n      <td>0.0</td>\n    </tr>\n  </tbody>\n</table>\n</div>",
      "text/plain": "   jet1b.tag_0.0  jet1b.tag_1.086538  jet1b.tag_1.0865380759999999  \\\n0            0.0                 0.0                           0.0   \n1            0.0                 0.0                           0.0   \n2            0.0                 0.0                           1.0   \n3            0.0                 0.0                           0.0   \n4            0.0                 0.0                           1.0   \n\n   jet1b.tag_2.173076  jet1b.tag_2.1730761530000002  jet2b.tag_0.0  \\\n0                 1.0                           0.0            1.0   \n1                 0.0                           1.0            1.0   \n2                 0.0                           0.0            1.0   \n3                 1.0                           0.0            0.0   \n4                 0.0                           0.0            1.0   \n\n   jet2b.tag_1.107436  jet2b.tag_1.107436061  jet2b.tag_2.214872  \\\n0                 0.0                    0.0                 0.0   \n1                 0.0                    0.0                 0.0   \n2                 0.0                    0.0                 0.0   \n3                 0.0                    0.0                 1.0   \n4                 0.0                    0.0                 0.0   \n\n   jet2b.tag_2.214872122  jet3b.tag_0.0  jet3b.tag_1.2741120000000001  \\\n0                    0.0            0.0                           0.0   \n1                    0.0            0.0                           0.0   \n2                    0.0            0.0                           0.0   \n3                    0.0            1.0                           0.0   \n4                    0.0            0.0                           0.0   \n\n   jet3b.tag_1.274112225  jet3b.tag_2.5482240000000003  jet3b.tag_2.548224449  \\\n0                    0.0                           1.0                    0.0   \n1                    0.0                           0.0                    1.0   \n2                    1.0                           0.0                    0.0   \n3                    0.0                           0.0                    0.0   \n4                    0.0                           0.0                    1.0   \n\n   jet4b.tag_0.0  jet4b.tag_1.5509806869999998  jet4b.tag_1.550981  \\\n0            1.0                           0.0                 0.0   \n1            1.0                           0.0                 0.0   \n2            1.0                           0.0                 0.0   \n3            1.0                           0.0                 0.0   \n4            1.0                           0.0                 0.0   \n\n   jet4b.tag_3.101961  jet4b.tag_3.1019613739999996  \n0                 0.0                           0.0  \n1                 0.0                           0.0  \n2                 0.0                           0.0  \n3                 0.0                           0.0  \n4                 0.0                           0.0  "
     },
     "execution_count": 14,
     "metadata": {},
     "output_type": "execute_result"
    }
   ],
   "source": [
    "## Encode X_train category columns \n",
    "X_train_cat_onehotencoded = onehotencoder.transform(X_train[cat_cols]).toarray()\n",
    "X_train_cat_onehotencoded = pd.DataFrame(X_train_cat_onehotencoded, columns=ohe_cat_col_names)\n",
    "print(f'shape of X_train_cat_onehotencoded: {X_train_cat_onehotencoded.shape}')\n",
    "X_train_cat_onehotencoded.head()"
   ]
  },
  {
   "cell_type": "code",
   "execution_count": 15,
   "metadata": {},
   "outputs": [
    {
     "name": "stdout",
     "output_type": "stream",
     "text": "shape of X_valid_cat_onehotencoded: (20591, 20)\n"
    },
    {
     "data": {
      "text/html": "<div>\n<style scoped>\n    .dataframe tbody tr th:only-of-type {\n        vertical-align: middle;\n    }\n\n    .dataframe tbody tr th {\n        vertical-align: top;\n    }\n\n    .dataframe thead th {\n        text-align: right;\n    }\n</style>\n<table border=\"1\" class=\"dataframe\">\n  <thead>\n    <tr style=\"text-align: right;\">\n      <th></th>\n      <th>jet1b.tag_0.0</th>\n      <th>jet1b.tag_1.086538</th>\n      <th>jet1b.tag_1.0865380759999999</th>\n      <th>jet1b.tag_2.173076</th>\n      <th>jet1b.tag_2.1730761530000002</th>\n      <th>jet2b.tag_0.0</th>\n      <th>jet2b.tag_1.107436</th>\n      <th>jet2b.tag_1.107436061</th>\n      <th>jet2b.tag_2.214872</th>\n      <th>jet2b.tag_2.214872122</th>\n      <th>jet3b.tag_0.0</th>\n      <th>jet3b.tag_1.2741120000000001</th>\n      <th>jet3b.tag_1.274112225</th>\n      <th>jet3b.tag_2.5482240000000003</th>\n      <th>jet3b.tag_2.548224449</th>\n      <th>jet4b.tag_0.0</th>\n      <th>jet4b.tag_1.5509806869999998</th>\n      <th>jet4b.tag_1.550981</th>\n      <th>jet4b.tag_3.101961</th>\n      <th>jet4b.tag_3.1019613739999996</th>\n    </tr>\n  </thead>\n  <tbody>\n    <tr>\n      <th>0</th>\n      <td>1.0</td>\n      <td>0.0</td>\n      <td>0.0</td>\n      <td>0.0</td>\n      <td>0.0</td>\n      <td>1.0</td>\n      <td>0.0</td>\n      <td>0.0</td>\n      <td>0.0</td>\n      <td>0.0</td>\n      <td>0.0</td>\n      <td>0.0</td>\n      <td>0.0</td>\n      <td>1.0</td>\n      <td>0.0</td>\n      <td>1.0</td>\n      <td>0.0</td>\n      <td>0.0</td>\n      <td>0.0</td>\n      <td>0.0</td>\n    </tr>\n    <tr>\n      <th>1</th>\n      <td>0.0</td>\n      <td>0.0</td>\n      <td>0.0</td>\n      <td>1.0</td>\n      <td>0.0</td>\n      <td>1.0</td>\n      <td>0.0</td>\n      <td>0.0</td>\n      <td>0.0</td>\n      <td>0.0</td>\n      <td>1.0</td>\n      <td>0.0</td>\n      <td>0.0</td>\n      <td>0.0</td>\n      <td>0.0</td>\n      <td>0.0</td>\n      <td>0.0</td>\n      <td>0.0</td>\n      <td>1.0</td>\n      <td>0.0</td>\n    </tr>\n    <tr>\n      <th>2</th>\n      <td>1.0</td>\n      <td>0.0</td>\n      <td>0.0</td>\n      <td>0.0</td>\n      <td>0.0</td>\n      <td>0.0</td>\n      <td>0.0</td>\n      <td>1.0</td>\n      <td>0.0</td>\n      <td>0.0</td>\n      <td>0.0</td>\n      <td>0.0</td>\n      <td>0.0</td>\n      <td>0.0</td>\n      <td>1.0</td>\n      <td>1.0</td>\n      <td>0.0</td>\n      <td>0.0</td>\n      <td>0.0</td>\n      <td>0.0</td>\n    </tr>\n    <tr>\n      <th>3</th>\n      <td>0.0</td>\n      <td>0.0</td>\n      <td>0.0</td>\n      <td>1.0</td>\n      <td>0.0</td>\n      <td>1.0</td>\n      <td>0.0</td>\n      <td>0.0</td>\n      <td>0.0</td>\n      <td>0.0</td>\n      <td>1.0</td>\n      <td>0.0</td>\n      <td>0.0</td>\n      <td>0.0</td>\n      <td>0.0</td>\n      <td>0.0</td>\n      <td>0.0</td>\n      <td>0.0</td>\n      <td>1.0</td>\n      <td>0.0</td>\n    </tr>\n    <tr>\n      <th>4</th>\n      <td>1.0</td>\n      <td>0.0</td>\n      <td>0.0</td>\n      <td>0.0</td>\n      <td>0.0</td>\n      <td>0.0</td>\n      <td>0.0</td>\n      <td>0.0</td>\n      <td>0.0</td>\n      <td>1.0</td>\n      <td>1.0</td>\n      <td>0.0</td>\n      <td>0.0</td>\n      <td>0.0</td>\n      <td>0.0</td>\n      <td>0.0</td>\n      <td>0.0</td>\n      <td>0.0</td>\n      <td>0.0</td>\n      <td>1.0</td>\n    </tr>\n  </tbody>\n</table>\n</div>",
      "text/plain": "   jet1b.tag_0.0  jet1b.tag_1.086538  jet1b.tag_1.0865380759999999  \\\n0            1.0                 0.0                           0.0   \n1            0.0                 0.0                           0.0   \n2            1.0                 0.0                           0.0   \n3            0.0                 0.0                           0.0   \n4            1.0                 0.0                           0.0   \n\n   jet1b.tag_2.173076  jet1b.tag_2.1730761530000002  jet2b.tag_0.0  \\\n0                 0.0                           0.0            1.0   \n1                 1.0                           0.0            1.0   \n2                 0.0                           0.0            0.0   \n3                 1.0                           0.0            1.0   \n4                 0.0                           0.0            0.0   \n\n   jet2b.tag_1.107436  jet2b.tag_1.107436061  jet2b.tag_2.214872  \\\n0                 0.0                    0.0                 0.0   \n1                 0.0                    0.0                 0.0   \n2                 0.0                    1.0                 0.0   \n3                 0.0                    0.0                 0.0   \n4                 0.0                    0.0                 0.0   \n\n   jet2b.tag_2.214872122  jet3b.tag_0.0  jet3b.tag_1.2741120000000001  \\\n0                    0.0            0.0                           0.0   \n1                    0.0            1.0                           0.0   \n2                    0.0            0.0                           0.0   \n3                    0.0            1.0                           0.0   \n4                    1.0            1.0                           0.0   \n\n   jet3b.tag_1.274112225  jet3b.tag_2.5482240000000003  jet3b.tag_2.548224449  \\\n0                    0.0                           1.0                    0.0   \n1                    0.0                           0.0                    0.0   \n2                    0.0                           0.0                    1.0   \n3                    0.0                           0.0                    0.0   \n4                    0.0                           0.0                    0.0   \n\n   jet4b.tag_0.0  jet4b.tag_1.5509806869999998  jet4b.tag_1.550981  \\\n0            1.0                           0.0                 0.0   \n1            0.0                           0.0                 0.0   \n2            1.0                           0.0                 0.0   \n3            0.0                           0.0                 0.0   \n4            0.0                           0.0                 0.0   \n\n   jet4b.tag_3.101961  jet4b.tag_3.1019613739999996  \n0                 0.0                           0.0  \n1                 1.0                           0.0  \n2                 0.0                           0.0  \n3                 1.0                           0.0  \n4                 0.0                           1.0  "
     },
     "execution_count": 15,
     "metadata": {},
     "output_type": "execute_result"
    }
   ],
   "source": [
    "## Encode X_valid category columns \n",
    "X_valid_cat_onehotencoded = onehotencoder.transform(X_valid[cat_cols]).toarray()\n",
    "X_valid_cat_onehotencoded = pd.DataFrame(X_valid_cat_onehotencoded, columns=ohe_cat_col_names)\n",
    "print(f'shape of X_valid_cat_onehotencoded: {X_valid_cat_onehotencoded.shape}')\n",
    "X_valid_cat_onehotencoded.head()"
   ]
  },
  {
   "cell_type": "code",
   "execution_count": 16,
   "metadata": {},
   "outputs": [
    {
     "name": "stdout",
     "output_type": "stream",
     "text": "shape of X_test_cat_onehotencoded: (29413, 20)\n"
    },
    {
     "data": {
      "text/html": "<div>\n<style scoped>\n    .dataframe tbody tr th:only-of-type {\n        vertical-align: middle;\n    }\n\n    .dataframe tbody tr th {\n        vertical-align: top;\n    }\n\n    .dataframe thead th {\n        text-align: right;\n    }\n</style>\n<table border=\"1\" class=\"dataframe\">\n  <thead>\n    <tr style=\"text-align: right;\">\n      <th></th>\n      <th>jet1b.tag_0.0</th>\n      <th>jet1b.tag_1.086538</th>\n      <th>jet1b.tag_1.0865380759999999</th>\n      <th>jet1b.tag_2.173076</th>\n      <th>jet1b.tag_2.1730761530000002</th>\n      <th>jet2b.tag_0.0</th>\n      <th>jet2b.tag_1.107436</th>\n      <th>jet2b.tag_1.107436061</th>\n      <th>jet2b.tag_2.214872</th>\n      <th>jet2b.tag_2.214872122</th>\n      <th>jet3b.tag_0.0</th>\n      <th>jet3b.tag_1.2741120000000001</th>\n      <th>jet3b.tag_1.274112225</th>\n      <th>jet3b.tag_2.5482240000000003</th>\n      <th>jet3b.tag_2.548224449</th>\n      <th>jet4b.tag_0.0</th>\n      <th>jet4b.tag_1.5509806869999998</th>\n      <th>jet4b.tag_1.550981</th>\n      <th>jet4b.tag_3.101961</th>\n      <th>jet4b.tag_3.1019613739999996</th>\n    </tr>\n  </thead>\n  <tbody>\n    <tr>\n      <th>0</th>\n      <td>1.0</td>\n      <td>0.0</td>\n      <td>0.0</td>\n      <td>0.0</td>\n      <td>0.0</td>\n      <td>0.0</td>\n      <td>0.0</td>\n      <td>0.0</td>\n      <td>0.0</td>\n      <td>1.0</td>\n      <td>1.0</td>\n      <td>0.0</td>\n      <td>0.0</td>\n      <td>0.0</td>\n      <td>0.0</td>\n      <td>1.0</td>\n      <td>0.0</td>\n      <td>0.0</td>\n      <td>0.0</td>\n      <td>0.0</td>\n    </tr>\n    <tr>\n      <th>1</th>\n      <td>1.0</td>\n      <td>0.0</td>\n      <td>0.0</td>\n      <td>0.0</td>\n      <td>0.0</td>\n      <td>1.0</td>\n      <td>0.0</td>\n      <td>0.0</td>\n      <td>0.0</td>\n      <td>0.0</td>\n      <td>0.0</td>\n      <td>0.0</td>\n      <td>0.0</td>\n      <td>0.0</td>\n      <td>1.0</td>\n      <td>1.0</td>\n      <td>0.0</td>\n      <td>0.0</td>\n      <td>0.0</td>\n      <td>0.0</td>\n    </tr>\n    <tr>\n      <th>2</th>\n      <td>0.0</td>\n      <td>0.0</td>\n      <td>0.0</td>\n      <td>0.0</td>\n      <td>1.0</td>\n      <td>1.0</td>\n      <td>0.0</td>\n      <td>0.0</td>\n      <td>0.0</td>\n      <td>0.0</td>\n      <td>1.0</td>\n      <td>0.0</td>\n      <td>0.0</td>\n      <td>0.0</td>\n      <td>0.0</td>\n      <td>0.0</td>\n      <td>0.0</td>\n      <td>0.0</td>\n      <td>0.0</td>\n      <td>1.0</td>\n    </tr>\n    <tr>\n      <th>3</th>\n      <td>0.0</td>\n      <td>0.0</td>\n      <td>1.0</td>\n      <td>0.0</td>\n      <td>0.0</td>\n      <td>1.0</td>\n      <td>0.0</td>\n      <td>0.0</td>\n      <td>0.0</td>\n      <td>0.0</td>\n      <td>1.0</td>\n      <td>0.0</td>\n      <td>0.0</td>\n      <td>0.0</td>\n      <td>0.0</td>\n      <td>0.0</td>\n      <td>0.0</td>\n      <td>0.0</td>\n      <td>0.0</td>\n      <td>1.0</td>\n    </tr>\n    <tr>\n      <th>4</th>\n      <td>0.0</td>\n      <td>0.0</td>\n      <td>0.0</td>\n      <td>0.0</td>\n      <td>1.0</td>\n      <td>0.0</td>\n      <td>0.0</td>\n      <td>1.0</td>\n      <td>0.0</td>\n      <td>0.0</td>\n      <td>1.0</td>\n      <td>0.0</td>\n      <td>0.0</td>\n      <td>0.0</td>\n      <td>0.0</td>\n      <td>1.0</td>\n      <td>0.0</td>\n      <td>0.0</td>\n      <td>0.0</td>\n      <td>0.0</td>\n    </tr>\n  </tbody>\n</table>\n</div>",
      "text/plain": "   jet1b.tag_0.0  jet1b.tag_1.086538  jet1b.tag_1.0865380759999999  \\\n0            1.0                 0.0                           0.0   \n1            1.0                 0.0                           0.0   \n2            0.0                 0.0                           0.0   \n3            0.0                 0.0                           1.0   \n4            0.0                 0.0                           0.0   \n\n   jet1b.tag_2.173076  jet1b.tag_2.1730761530000002  jet2b.tag_0.0  \\\n0                 0.0                           0.0            0.0   \n1                 0.0                           0.0            1.0   \n2                 0.0                           1.0            1.0   \n3                 0.0                           0.0            1.0   \n4                 0.0                           1.0            0.0   \n\n   jet2b.tag_1.107436  jet2b.tag_1.107436061  jet2b.tag_2.214872  \\\n0                 0.0                    0.0                 0.0   \n1                 0.0                    0.0                 0.0   \n2                 0.0                    0.0                 0.0   \n3                 0.0                    0.0                 0.0   \n4                 0.0                    1.0                 0.0   \n\n   jet2b.tag_2.214872122  jet3b.tag_0.0  jet3b.tag_1.2741120000000001  \\\n0                    1.0            1.0                           0.0   \n1                    0.0            0.0                           0.0   \n2                    0.0            1.0                           0.0   \n3                    0.0            1.0                           0.0   \n4                    0.0            1.0                           0.0   \n\n   jet3b.tag_1.274112225  jet3b.tag_2.5482240000000003  jet3b.tag_2.548224449  \\\n0                    0.0                           0.0                    0.0   \n1                    0.0                           0.0                    1.0   \n2                    0.0                           0.0                    0.0   \n3                    0.0                           0.0                    0.0   \n4                    0.0                           0.0                    0.0   \n\n   jet4b.tag_0.0  jet4b.tag_1.5509806869999998  jet4b.tag_1.550981  \\\n0            1.0                           0.0                 0.0   \n1            1.0                           0.0                 0.0   \n2            0.0                           0.0                 0.0   \n3            0.0                           0.0                 0.0   \n4            1.0                           0.0                 0.0   \n\n   jet4b.tag_3.101961  jet4b.tag_3.1019613739999996  \n0                 0.0                           0.0  \n1                 0.0                           0.0  \n2                 0.0                           1.0  \n3                 0.0                           1.0  \n4                 0.0                           0.0  "
     },
     "execution_count": 16,
     "metadata": {},
     "output_type": "execute_result"
    }
   ],
   "source": [
    "## Encode X_test category columns \n",
    "X_test_cat_onehotencoded = onehotencoder.transform(X_test[cat_cols]).toarray()\n",
    "X_test_cat_onehotencoded = pd.DataFrame(X_test_cat_onehotencoded, columns=ohe_cat_col_names)\n",
    "print(f'shape of X_test_cat_onehotencoded: {X_test_cat_onehotencoded.shape}')\n",
    "X_test_cat_onehotencoded.head()"
   ]
  },
  {
   "cell_type": "code",
   "execution_count": 18,
   "metadata": {},
   "outputs": [
    {
     "ename": "SyntaxError",
     "evalue": "invalid syntax (<ipython-input-18-164549d3d1df>, line 1)",
     "output_type": "error",
     "traceback": [
      "\u001b[0;36m  File \u001b[0;32m\"<ipython-input-18-164549d3d1df>\"\u001b[0;36m, line \u001b[0;32m1\u001b[0m\n\u001b[0;31m    X_train = pd.concat([X_train[num_cols], X_train_cat_onehotencoded]], axis=1)\u001b[0m\n\u001b[0m                                                                      ^\u001b[0m\n\u001b[0;31mSyntaxError\u001b[0m\u001b[0;31m:\u001b[0m invalid syntax\n"
     ]
    }
   ],
   "source": [
    "X_train = pd.concat([X_train[num_cols], X_train_cat_onehotencoded]], axis=1)\n",
    "X_train.shape"
   ]
  },
  {
   "cell_type": "code",
   "execution_count": 18,
   "metadata": {},
   "outputs": [
    {
     "data": {
      "text/plain": "(35054, 44)"
     },
     "execution_count": 18,
     "metadata": {},
     "output_type": "execute_result"
    }
   ],
   "source": [
    "X_valid = pd.concat([X_valid_cat_onehotencoded, X_valid[num_cols]], axis=1)\n",
    "X_valid.shape"
   ]
  },
  {
   "cell_type": "code",
   "execution_count": 19,
   "metadata": {},
   "outputs": [
    {
     "data": {
      "text/plain": "(29413, 44)"
     },
     "execution_count": 19,
     "metadata": {},
     "output_type": "execute_result"
    }
   ],
   "source": [
    "X_test = pd.concat([X_test_cat_onehotencoded, X_test[num_cols]], axis=1)\n",
    "X_test.shape"
   ]
  }
 ]
}