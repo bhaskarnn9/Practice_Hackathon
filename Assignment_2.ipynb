{
 "cells": [
  {
   "cell_type": "code",
   "execution_count": 1,
   "metadata": {},
   "outputs": [],
   "source": [
    "## data manipulation\n",
    "import numpy as np\n",
    "import pandas as pd\n",
    "from string import ascii_letters\n",
    "\n",
    "## visualization\n",
    "import seaborn as sns\n",
    "import scipy.stats as ss\n",
    "import matplotlib.pyplot as plt\n",
    "\n",
    "## preprocessing\n",
    "from sklearn.preprocessing import OneHotEncoder\n",
    "\n",
    "## modelling\n",
    "from sklearn.metrics import accuracy_score"
   ]
  },
  {
   "cell_type": "code",
   "execution_count": 2,
   "metadata": {},
   "outputs": [
    {
     "data": {
      "text/html": [
       "<div>\n",
       "<style scoped>\n",
       "    .dataframe tbody tr th:only-of-type {\n",
       "        vertical-align: middle;\n",
       "    }\n",
       "\n",
       "    .dataframe tbody tr th {\n",
       "        vertical-align: top;\n",
       "    }\n",
       "\n",
       "    .dataframe thead th {\n",
       "        text-align: right;\n",
       "    }\n",
       "</style>\n",
       "<table border=\"1\" class=\"dataframe\">\n",
       "  <thead>\n",
       "    <tr style=\"text-align: right;\">\n",
       "      <th></th>\n",
       "      <th>class</th>\n",
       "      <th>lepton_pT</th>\n",
       "      <th>lepton_eta</th>\n",
       "      <th>lepton_phi</th>\n",
       "      <th>missing_energy_magnitude</th>\n",
       "      <th>missing_energy_phi</th>\n",
       "      <th>jet1pt</th>\n",
       "      <th>jet1eta</th>\n",
       "      <th>jet1phi</th>\n",
       "      <th>jet1b.tag</th>\n",
       "      <th>jet2pt</th>\n",
       "      <th>jet2eta</th>\n",
       "      <th>jet2phi</th>\n",
       "      <th>jet2b.tag</th>\n",
       "      <th>jet3pt</th>\n",
       "      <th>jet3eta</th>\n",
       "      <th>jet3phi</th>\n",
       "      <th>jet3b.tag</th>\n",
       "      <th>jet4pt</th>\n",
       "      <th>jet4eta</th>\n",
       "      <th>jet4phi</th>\n",
       "      <th>jet4b.tag</th>\n",
       "      <th>m_jj</th>\n",
       "      <th>m_jjj</th>\n",
       "      <th>m_lv</th>\n",
       "      <th>m_jlv</th>\n",
       "      <th>m_bb</th>\n",
       "      <th>m_wbb</th>\n",
       "      <th>m_wwbb</th>\n",
       "      <th>id</th>\n",
       "    </tr>\n",
       "  </thead>\n",
       "  <tbody>\n",
       "    <tr>\n",
       "      <th>0</th>\n",
       "      <td>1</td>\n",
       "      <td>0.907542</td>\n",
       "      <td>0.329147</td>\n",
       "      <td>0.359412</td>\n",
       "      <td>1.497970</td>\n",
       "      <td>-0.313010</td>\n",
       "      <td>1.095531</td>\n",
       "      <td>-0.557525</td>\n",
       "      <td>-1.588230</td>\n",
       "      <td>2.173076</td>\n",
       "      <td>0.812581</td>\n",
       "      <td>-0.213642</td>\n",
       "      <td>1.271015</td>\n",
       "      <td>2.214872</td>\n",
       "      <td>0.499994</td>\n",
       "      <td>-1.261432</td>\n",
       "      <td>0.732156</td>\n",
       "      <td>0.000000</td>\n",
       "      <td>0.398701</td>\n",
       "      <td>-1.138930</td>\n",
       "      <td>-0.000819</td>\n",
       "      <td>0.000000</td>\n",
       "      <td>0.302220</td>\n",
       "      <td>0.833048</td>\n",
       "      <td>0.985700</td>\n",
       "      <td>0.978098</td>\n",
       "      <td>0.779732</td>\n",
       "      <td>0.992356</td>\n",
       "      <td>0.798343</td>\n",
       "      <td>1</td>\n",
       "    </tr>\n",
       "    <tr>\n",
       "      <th>1</th>\n",
       "      <td>1</td>\n",
       "      <td>0.798835</td>\n",
       "      <td>1.470639</td>\n",
       "      <td>-1.635975</td>\n",
       "      <td>0.453773</td>\n",
       "      <td>0.425629</td>\n",
       "      <td>1.104875</td>\n",
       "      <td>1.282322</td>\n",
       "      <td>1.381664</td>\n",
       "      <td>0.000000</td>\n",
       "      <td>0.851737</td>\n",
       "      <td>1.540659</td>\n",
       "      <td>-0.819690</td>\n",
       "      <td>2.214872</td>\n",
       "      <td>0.993490</td>\n",
       "      <td>0.356080</td>\n",
       "      <td>-0.208778</td>\n",
       "      <td>2.548224</td>\n",
       "      <td>1.256955</td>\n",
       "      <td>1.128848</td>\n",
       "      <td>0.900461</td>\n",
       "      <td>0.000000</td>\n",
       "      <td>0.909753</td>\n",
       "      <td>1.108330</td>\n",
       "      <td>0.985692</td>\n",
       "      <td>0.951331</td>\n",
       "      <td>0.803252</td>\n",
       "      <td>0.865924</td>\n",
       "      <td>0.780118</td>\n",
       "      <td>2</td>\n",
       "    </tr>\n",
       "    <tr>\n",
       "      <th>2</th>\n",
       "      <td>0</td>\n",
       "      <td>1.344385</td>\n",
       "      <td>-0.876626</td>\n",
       "      <td>0.935913</td>\n",
       "      <td>1.992050</td>\n",
       "      <td>0.882454</td>\n",
       "      <td>1.786066</td>\n",
       "      <td>-1.646778</td>\n",
       "      <td>-0.942383</td>\n",
       "      <td>0.000000</td>\n",
       "      <td>2.423265</td>\n",
       "      <td>-0.676016</td>\n",
       "      <td>0.736159</td>\n",
       "      <td>2.214872</td>\n",
       "      <td>1.298720</td>\n",
       "      <td>-1.430738</td>\n",
       "      <td>-0.364658</td>\n",
       "      <td>0.000000</td>\n",
       "      <td>0.745313</td>\n",
       "      <td>-0.678379</td>\n",
       "      <td>-1.360356</td>\n",
       "      <td>0.000000</td>\n",
       "      <td>0.946652</td>\n",
       "      <td>1.028704</td>\n",
       "      <td>0.998656</td>\n",
       "      <td>0.728281</td>\n",
       "      <td>0.869200</td>\n",
       "      <td>1.026736</td>\n",
       "      <td>0.957904</td>\n",
       "      <td>3</td>\n",
       "    </tr>\n",
       "    <tr>\n",
       "      <th>3</th>\n",
       "      <td>0</td>\n",
       "      <td>1.595839</td>\n",
       "      <td>-0.607811</td>\n",
       "      <td>0.007075</td>\n",
       "      <td>1.818450</td>\n",
       "      <td>-0.111906</td>\n",
       "      <td>0.847550</td>\n",
       "      <td>-0.566437</td>\n",
       "      <td>1.581239</td>\n",
       "      <td>2.173076</td>\n",
       "      <td>0.755421</td>\n",
       "      <td>0.643110</td>\n",
       "      <td>1.426367</td>\n",
       "      <td>0.000000</td>\n",
       "      <td>0.921661</td>\n",
       "      <td>-1.190432</td>\n",
       "      <td>-1.615589</td>\n",
       "      <td>0.000000</td>\n",
       "      <td>0.651114</td>\n",
       "      <td>-0.654227</td>\n",
       "      <td>-1.274345</td>\n",
       "      <td>3.101961</td>\n",
       "      <td>0.823761</td>\n",
       "      <td>0.938191</td>\n",
       "      <td>0.971758</td>\n",
       "      <td>0.789176</td>\n",
       "      <td>0.430553</td>\n",
       "      <td>0.961357</td>\n",
       "      <td>0.957818</td>\n",
       "      <td>4</td>\n",
       "    </tr>\n",
       "    <tr>\n",
       "      <th>4</th>\n",
       "      <td>1</td>\n",
       "      <td>0.409391</td>\n",
       "      <td>-1.884684</td>\n",
       "      <td>-1.027292</td>\n",
       "      <td>1.672452</td>\n",
       "      <td>-1.604598</td>\n",
       "      <td>1.338015</td>\n",
       "      <td>0.055427</td>\n",
       "      <td>0.013466</td>\n",
       "      <td>2.173076</td>\n",
       "      <td>0.509783</td>\n",
       "      <td>-1.038338</td>\n",
       "      <td>0.707862</td>\n",
       "      <td>0.000000</td>\n",
       "      <td>0.746918</td>\n",
       "      <td>-0.358465</td>\n",
       "      <td>-1.646654</td>\n",
       "      <td>0.000000</td>\n",
       "      <td>0.367058</td>\n",
       "      <td>0.069496</td>\n",
       "      <td>1.377130</td>\n",
       "      <td>3.101961</td>\n",
       "      <td>0.869418</td>\n",
       "      <td>1.222083</td>\n",
       "      <td>1.000627</td>\n",
       "      <td>0.545045</td>\n",
       "      <td>0.698653</td>\n",
       "      <td>0.977314</td>\n",
       "      <td>0.828786</td>\n",
       "      <td>5</td>\n",
       "    </tr>\n",
       "  </tbody>\n",
       "</table>\n",
       "</div>"
      ],
      "text/plain": [
       "   class  lepton_pT  lepton_eta  lepton_phi  missing_energy_magnitude  \\\n",
       "0      1   0.907542    0.329147    0.359412                  1.497970   \n",
       "1      1   0.798835    1.470639   -1.635975                  0.453773   \n",
       "2      0   1.344385   -0.876626    0.935913                  1.992050   \n",
       "3      0   1.595839   -0.607811    0.007075                  1.818450   \n",
       "4      1   0.409391   -1.884684   -1.027292                  1.672452   \n",
       "\n",
       "   missing_energy_phi    jet1pt   jet1eta   jet1phi  jet1b.tag    jet2pt  \\\n",
       "0           -0.313010  1.095531 -0.557525 -1.588230   2.173076  0.812581   \n",
       "1            0.425629  1.104875  1.282322  1.381664   0.000000  0.851737   \n",
       "2            0.882454  1.786066 -1.646778 -0.942383   0.000000  2.423265   \n",
       "3           -0.111906  0.847550 -0.566437  1.581239   2.173076  0.755421   \n",
       "4           -1.604598  1.338015  0.055427  0.013466   2.173076  0.509783   \n",
       "\n",
       "    jet2eta   jet2phi  jet2b.tag    jet3pt   jet3eta   jet3phi  jet3b.tag  \\\n",
       "0 -0.213642  1.271015   2.214872  0.499994 -1.261432  0.732156   0.000000   \n",
       "1  1.540659 -0.819690   2.214872  0.993490  0.356080 -0.208778   2.548224   \n",
       "2 -0.676016  0.736159   2.214872  1.298720 -1.430738 -0.364658   0.000000   \n",
       "3  0.643110  1.426367   0.000000  0.921661 -1.190432 -1.615589   0.000000   \n",
       "4 -1.038338  0.707862   0.000000  0.746918 -0.358465 -1.646654   0.000000   \n",
       "\n",
       "     jet4pt   jet4eta   jet4phi  jet4b.tag      m_jj     m_jjj      m_lv  \\\n",
       "0  0.398701 -1.138930 -0.000819   0.000000  0.302220  0.833048  0.985700   \n",
       "1  1.256955  1.128848  0.900461   0.000000  0.909753  1.108330  0.985692   \n",
       "2  0.745313 -0.678379 -1.360356   0.000000  0.946652  1.028704  0.998656   \n",
       "3  0.651114 -0.654227 -1.274345   3.101961  0.823761  0.938191  0.971758   \n",
       "4  0.367058  0.069496  1.377130   3.101961  0.869418  1.222083  1.000627   \n",
       "\n",
       "      m_jlv      m_bb     m_wbb    m_wwbb  id  \n",
       "0  0.978098  0.779732  0.992356  0.798343   1  \n",
       "1  0.951331  0.803252  0.865924  0.780118   2  \n",
       "2  0.728281  0.869200  1.026736  0.957904   3  \n",
       "3  0.789176  0.430553  0.961357  0.957818   4  \n",
       "4  0.545045  0.698653  0.977314  0.828786   5  "
      ]
     },
     "execution_count": 2,
     "metadata": {},
     "output_type": "execute_result"
    }
   ],
   "source": [
    "pd.set_option('display.max_columns', 50)\n",
    "train_raw = pd.read_csv('input/CSE7302c_train-1539668060821.csv', na_values='?')\n",
    "train_raw.head()"
   ]
  },
  {
   "cell_type": "code",
   "execution_count": 3,
   "metadata": {},
   "outputs": [
    {
     "data": {
      "text/html": [
       "<div>\n",
       "<style scoped>\n",
       "    .dataframe tbody tr th:only-of-type {\n",
       "        vertical-align: middle;\n",
       "    }\n",
       "\n",
       "    .dataframe tbody tr th {\n",
       "        vertical-align: top;\n",
       "    }\n",
       "\n",
       "    .dataframe thead th {\n",
       "        text-align: right;\n",
       "    }\n",
       "</style>\n",
       "<table border=\"1\" class=\"dataframe\">\n",
       "  <thead>\n",
       "    <tr style=\"text-align: right;\">\n",
       "      <th></th>\n",
       "      <th>class</th>\n",
       "      <th>lepton_pT</th>\n",
       "      <th>lepton_eta</th>\n",
       "      <th>lepton_phi</th>\n",
       "      <th>missing_energy_magnitude</th>\n",
       "      <th>missing_energy_phi</th>\n",
       "      <th>jet1pt</th>\n",
       "      <th>jet1eta</th>\n",
       "      <th>jet1phi</th>\n",
       "      <th>jet1b.tag</th>\n",
       "      <th>jet2pt</th>\n",
       "      <th>jet2eta</th>\n",
       "      <th>jet2phi</th>\n",
       "      <th>jet2b.tag</th>\n",
       "      <th>jet3pt</th>\n",
       "      <th>jet3eta</th>\n",
       "      <th>jet3phi</th>\n",
       "      <th>jet3b.tag</th>\n",
       "      <th>jet4pt</th>\n",
       "      <th>jet4eta</th>\n",
       "      <th>jet4phi</th>\n",
       "      <th>jet4b.tag</th>\n",
       "      <th>m_jj</th>\n",
       "      <th>m_jjj</th>\n",
       "      <th>m_lv</th>\n",
       "      <th>m_jlv</th>\n",
       "      <th>m_bb</th>\n",
       "      <th>m_wbb</th>\n",
       "      <th>m_wwbb</th>\n",
       "      <th>id</th>\n",
       "    </tr>\n",
       "  </thead>\n",
       "  <tbody>\n",
       "    <tr>\n",
       "      <th>0</th>\n",
       "      <td>1</td>\n",
       "      <td>1.105009</td>\n",
       "      <td>0.321356</td>\n",
       "      <td>1.522401</td>\n",
       "      <td>0.882808</td>\n",
       "      <td>-1.205349</td>\n",
       "      <td>0.681466</td>\n",
       "      <td>-1.070464</td>\n",
       "      <td>-0.921871</td>\n",
       "      <td>0.000000</td>\n",
       "      <td>0.800872</td>\n",
       "      <td>1.020974</td>\n",
       "      <td>0.971407</td>\n",
       "      <td>2.214872</td>\n",
       "      <td>0.596761</td>\n",
       "      <td>-0.350273</td>\n",
       "      <td>0.631194</td>\n",
       "      <td>0.000000</td>\n",
       "      <td>0.479999</td>\n",
       "      <td>-0.373566</td>\n",
       "      <td>0.113041</td>\n",
       "      <td>0.000000</td>\n",
       "      <td>0.755856</td>\n",
       "      <td>1.361057</td>\n",
       "      <td>0.986610</td>\n",
       "      <td>0.838085</td>\n",
       "      <td>1.133295</td>\n",
       "      <td>0.872245</td>\n",
       "      <td>0.808487</td>\n",
       "      <td>68637</td>\n",
       "    </tr>\n",
       "    <tr>\n",
       "      <th>1</th>\n",
       "      <td>1</td>\n",
       "      <td>1.176566</td>\n",
       "      <td>0.104161</td>\n",
       "      <td>1.397002</td>\n",
       "      <td>0.479721</td>\n",
       "      <td>0.265513</td>\n",
       "      <td>1.135563</td>\n",
       "      <td>1.534831</td>\n",
       "      <td>-0.253291</td>\n",
       "      <td>0.000000</td>\n",
       "      <td>1.027247</td>\n",
       "      <td>0.534316</td>\n",
       "      <td>1.180022</td>\n",
       "      <td>0.000000</td>\n",
       "      <td>2.405661</td>\n",
       "      <td>0.087557</td>\n",
       "      <td>-0.976534</td>\n",
       "      <td>2.548224</td>\n",
       "      <td>1.250383</td>\n",
       "      <td>0.268541</td>\n",
       "      <td>0.530334</td>\n",
       "      <td>0.000000</td>\n",
       "      <td>0.833175</td>\n",
       "      <td>0.773968</td>\n",
       "      <td>0.985750</td>\n",
       "      <td>1.103696</td>\n",
       "      <td>0.849140</td>\n",
       "      <td>0.937104</td>\n",
       "      <td>0.812364</td>\n",
       "      <td>68638</td>\n",
       "    </tr>\n",
       "    <tr>\n",
       "      <th>2</th>\n",
       "      <td>1</td>\n",
       "      <td>1.384098</td>\n",
       "      <td>0.116822</td>\n",
       "      <td>-1.179879</td>\n",
       "      <td>0.762913</td>\n",
       "      <td>-0.079782</td>\n",
       "      <td>1.019863</td>\n",
       "      <td>0.877318</td>\n",
       "      <td>1.276887</td>\n",
       "      <td>2.173076</td>\n",
       "      <td>0.331252</td>\n",
       "      <td>1.409523</td>\n",
       "      <td>-1.474389</td>\n",
       "      <td>0.000000</td>\n",
       "      <td>1.282738</td>\n",
       "      <td>0.737474</td>\n",
       "      <td>-0.225420</td>\n",
       "      <td>0.000000</td>\n",
       "      <td>1.559753</td>\n",
       "      <td>0.846521</td>\n",
       "      <td>0.504809</td>\n",
       "      <td>3.101961</td>\n",
       "      <td>0.959325</td>\n",
       "      <td>0.807376</td>\n",
       "      <td>1.191814</td>\n",
       "      <td>1.221210</td>\n",
       "      <td>0.861141</td>\n",
       "      <td>0.929341</td>\n",
       "      <td>0.838302</td>\n",
       "      <td>68639</td>\n",
       "    </tr>\n",
       "    <tr>\n",
       "      <th>3</th>\n",
       "      <td>1</td>\n",
       "      <td>1.330110</td>\n",
       "      <td>0.201557</td>\n",
       "      <td>1.173393</td>\n",
       "      <td>0.135309</td>\n",
       "      <td>-1.083159</td>\n",
       "      <td>0.728461</td>\n",
       "      <td>1.109032</td>\n",
       "      <td>-0.539903</td>\n",
       "      <td>1.086538</td>\n",
       "      <td>0.462444</td>\n",
       "      <td>0.133138</td>\n",
       "      <td>-0.560584</td>\n",
       "      <td>0.000000</td>\n",
       "      <td>0.479095</td>\n",
       "      <td>1.187137</td>\n",
       "      <td>0.657822</td>\n",
       "      <td>0.000000</td>\n",
       "      <td>0.670100</td>\n",
       "      <td>1.007255</td>\n",
       "      <td>0.054775</td>\n",
       "      <td>3.101961</td>\n",
       "      <td>0.782073</td>\n",
       "      <td>0.672103</td>\n",
       "      <td>0.990002</td>\n",
       "      <td>0.734279</td>\n",
       "      <td>0.379074</td>\n",
       "      <td>0.764760</td>\n",
       "      <td>0.642924</td>\n",
       "      <td>68640</td>\n",
       "    </tr>\n",
       "    <tr>\n",
       "      <th>4</th>\n",
       "      <td>0</td>\n",
       "      <td>1.289848</td>\n",
       "      <td>-1.423023</td>\n",
       "      <td>-0.687162</td>\n",
       "      <td>0.131103</td>\n",
       "      <td>-1.135935</td>\n",
       "      <td>0.821350</td>\n",
       "      <td>0.296053</td>\n",
       "      <td>0.167582</td>\n",
       "      <td>2.173076</td>\n",
       "      <td>0.696498</td>\n",
       "      <td>-0.469113</td>\n",
       "      <td>-1.151478</td>\n",
       "      <td>1.107436</td>\n",
       "      <td>0.939574</td>\n",
       "      <td>0.273248</td>\n",
       "      <td>1.640813</td>\n",
       "      <td>0.000000</td>\n",
       "      <td>0.720485</td>\n",
       "      <td>1.105529</td>\n",
       "      <td>0.727328</td>\n",
       "      <td>0.000000</td>\n",
       "      <td>1.006643</td>\n",
       "      <td>0.867914</td>\n",
       "      <td>0.999090</td>\n",
       "      <td>1.109608</td>\n",
       "      <td>1.125094</td>\n",
       "      <td>0.882899</td>\n",
       "      <td>0.859396</td>\n",
       "      <td>68641</td>\n",
       "    </tr>\n",
       "  </tbody>\n",
       "</table>\n",
       "</div>"
      ],
      "text/plain": [
       "   class  lepton_pT  lepton_eta  lepton_phi  missing_energy_magnitude  \\\n",
       "0      1   1.105009    0.321356    1.522401                  0.882808   \n",
       "1      1   1.176566    0.104161    1.397002                  0.479721   \n",
       "2      1   1.384098    0.116822   -1.179879                  0.762913   \n",
       "3      1   1.330110    0.201557    1.173393                  0.135309   \n",
       "4      0   1.289848   -1.423023   -0.687162                  0.131103   \n",
       "\n",
       "   missing_energy_phi    jet1pt   jet1eta   jet1phi  jet1b.tag    jet2pt  \\\n",
       "0           -1.205349  0.681466 -1.070464 -0.921871   0.000000  0.800872   \n",
       "1            0.265513  1.135563  1.534831 -0.253291   0.000000  1.027247   \n",
       "2           -0.079782  1.019863  0.877318  1.276887   2.173076  0.331252   \n",
       "3           -1.083159  0.728461  1.109032 -0.539903   1.086538  0.462444   \n",
       "4           -1.135935  0.821350  0.296053  0.167582   2.173076  0.696498   \n",
       "\n",
       "    jet2eta   jet2phi  jet2b.tag    jet3pt   jet3eta   jet3phi  jet3b.tag  \\\n",
       "0  1.020974  0.971407   2.214872  0.596761 -0.350273  0.631194   0.000000   \n",
       "1  0.534316  1.180022   0.000000  2.405661  0.087557 -0.976534   2.548224   \n",
       "2  1.409523 -1.474389   0.000000  1.282738  0.737474 -0.225420   0.000000   \n",
       "3  0.133138 -0.560584   0.000000  0.479095  1.187137  0.657822   0.000000   \n",
       "4 -0.469113 -1.151478   1.107436  0.939574  0.273248  1.640813   0.000000   \n",
       "\n",
       "     jet4pt   jet4eta   jet4phi  jet4b.tag      m_jj     m_jjj      m_lv  \\\n",
       "0  0.479999 -0.373566  0.113041   0.000000  0.755856  1.361057  0.986610   \n",
       "1  1.250383  0.268541  0.530334   0.000000  0.833175  0.773968  0.985750   \n",
       "2  1.559753  0.846521  0.504809   3.101961  0.959325  0.807376  1.191814   \n",
       "3  0.670100  1.007255  0.054775   3.101961  0.782073  0.672103  0.990002   \n",
       "4  0.720485  1.105529  0.727328   0.000000  1.006643  0.867914  0.999090   \n",
       "\n",
       "      m_jlv      m_bb     m_wbb    m_wwbb     id  \n",
       "0  0.838085  1.133295  0.872245  0.808487  68637  \n",
       "1  1.103696  0.849140  0.937104  0.812364  68638  \n",
       "2  1.221210  0.861141  0.929341  0.838302  68639  \n",
       "3  0.734279  0.379074  0.764760  0.642924  68640  \n",
       "4  1.109608  1.125094  0.882899  0.859396  68641  "
      ]
     },
     "execution_count": 3,
     "metadata": {},
     "output_type": "execute_result"
    }
   ],
   "source": [
    "test_raw = pd.read_csv('input/CSE7302c_test-1539668060821.csv', na_values='?')\n",
    "test_raw.head()"
   ]
  },
  {
   "cell_type": "code",
   "execution_count": 4,
   "metadata": {},
   "outputs": [
    {
     "data": {
      "text/plain": [
       "class                           2\n",
       "lepton_pT                   18514\n",
       "lepton_eta                   8919\n",
       "lepton_phi                  11806\n",
       "missing_energy_magnitude    66854\n",
       "missing_energy_phi          66804\n",
       "jet1pt                      25954\n",
       "jet1eta                      9422\n",
       "jet1phi                     11713\n",
       "jet1b.tag                       5\n",
       "jet2pt                      22270\n",
       "jet2eta                      9658\n",
       "jet2phi                     11827\n",
       "jet2b.tag                       5\n",
       "jet3pt                      17882\n",
       "jet3eta                     10089\n",
       "jet3phi                     11753\n",
       "jet3b.tag                       5\n",
       "jet4pt                      13935\n",
       "jet4eta                     10516\n",
       "jet4phi                     11801\n",
       "jet4b.tag                       5\n",
       "m_jj                        65748\n",
       "m_jjj                       57372\n",
       "m_lv                        42247\n",
       "m_jlv                       60935\n",
       "m_bb                        62851\n",
       "m_wbb                       63301\n",
       "m_wwbb                      64483\n",
       "id                          68636\n",
       "dtype: int64"
      ]
     },
     "execution_count": 4,
     "metadata": {},
     "output_type": "execute_result"
    }
   ],
   "source": [
    "train_raw.nunique()"
   ]
  },
  {
   "cell_type": "code",
   "execution_count": 5,
   "metadata": {},
   "outputs": [
    {
     "data": {
      "text/plain": [
       "class                           2\n",
       "lepton_pT                   13786\n",
       "lepton_eta                   7895\n",
       "lepton_phi                  10476\n",
       "missing_energy_magnitude    29132\n",
       "missing_energy_phi          29138\n",
       "jet1pt                      17678\n",
       "jet1eta                      7838\n",
       "jet1phi                     10383\n",
       "jet1b.tag                       5\n",
       "jet2pt                      15784\n",
       "jet2eta                      8145\n",
       "jet2phi                     10507\n",
       "jet2b.tag                       5\n",
       "jet3pt                      13492\n",
       "jet3eta                      8498\n",
       "jet3phi                     10487\n",
       "jet3b.tag                       5\n",
       "jet4pt                      10920\n",
       "jet4eta                      8978\n",
       "jet4phi                      6233\n",
       "jet4b.tag                       3\n",
       "m_jj                        28628\n",
       "m_jjj                       26074\n",
       "m_lv                        20085\n",
       "m_jlv                       27166\n",
       "m_bb                        27697\n",
       "m_wbb                       27977\n",
       "m_wwbb                      28235\n",
       "id                          29414\n",
       "dtype: int64"
      ]
     },
     "execution_count": 5,
     "metadata": {},
     "output_type": "execute_result"
    }
   ],
   "source": [
    "test_raw.nunique()"
   ]
  },
  {
   "cell_type": "code",
   "execution_count": 6,
   "metadata": {},
   "outputs": [
    {
     "data": {
      "text/plain": [
       "0.000000    33700\n",
       "2.173076    22387\n",
       "2.173076     5688\n",
       "1.086538     5413\n",
       "1.086538     1448\n",
       "Name: jet1b.tag, dtype: int64"
      ]
     },
     "execution_count": 6,
     "metadata": {},
     "output_type": "execute_result"
    }
   ],
   "source": [
    "train_raw['jet1b.tag'].value_counts()"
   ]
  },
  {
   "cell_type": "code",
   "execution_count": 7,
   "metadata": {},
   "outputs": [
    {
     "data": {
      "text/plain": [
       "0.000000    14420\n",
       "2.173076     8774\n",
       "2.173076     3328\n",
       "1.086538     2095\n",
       "1.086538      797\n",
       "Name: jet1b.tag, dtype: int64"
      ]
     },
     "execution_count": 7,
     "metadata": {},
     "output_type": "execute_result"
    }
   ],
   "source": [
    "test_raw['jet1b.tag'].value_counts()"
   ]
  },
  {
   "cell_type": "code",
   "execution_count": 8,
   "metadata": {},
   "outputs": [
    {
     "data": {
      "text/plain": [
       "0.000000    34289\n",
       "2.214872    22294\n",
       "2.214872     5660\n",
       "1.107436     5135\n",
       "1.107436     1258\n",
       "Name: jet2b.tag, dtype: int64"
      ]
     },
     "execution_count": 8,
     "metadata": {},
     "output_type": "execute_result"
    }
   ],
   "source": [
    "train_raw['jet2b.tag'].value_counts()"
   ]
  },
  {
   "cell_type": "code",
   "execution_count": 9,
   "metadata": {},
   "outputs": [
    {
     "data": {
      "text/plain": [
       "0.000000    14722\n",
       "2.214872     8715\n",
       "2.214872     3188\n",
       "1.107436     2003\n",
       "1.107436      786\n",
       "Name: jet2b.tag, dtype: int64"
      ]
     },
     "execution_count": 9,
     "metadata": {},
     "output_type": "execute_result"
    }
   ],
   "source": [
    "test_raw['jet2b.tag'].value_counts()"
   ]
  },
  {
   "cell_type": "code",
   "execution_count": 10,
   "metadata": {},
   "outputs": [
    {
     "data": {
      "text/plain": [
       "0.000000    39089\n",
       "2.548224    19626\n",
       "2.548224     4906\n",
       "1.274112     3952\n",
       "1.274112     1063\n",
       "Name: jet3b.tag, dtype: int64"
      ]
     },
     "execution_count": 10,
     "metadata": {},
     "output_type": "execute_result"
    }
   ],
   "source": [
    "train_raw['jet3b.tag'].value_counts()"
   ]
  },
  {
   "cell_type": "code",
   "execution_count": 11,
   "metadata": {},
   "outputs": [
    {
     "data": {
      "text/plain": [
       "0.000000    16626\n",
       "2.548224     7683\n",
       "2.548224     2855\n",
       "1.274112     1650\n",
       "1.274112      600\n",
       "Name: jet3b.tag, dtype: int64"
      ]
     },
     "execution_count": 11,
     "metadata": {},
     "output_type": "execute_result"
    }
   ],
   "source": [
    "test_raw['jet3b.tag'].value_counts()"
   ]
  },
  {
   "cell_type": "code",
   "execution_count": 12,
   "metadata": {},
   "outputs": [
    {
     "data": {
      "text/plain": [
       "0.000000    44714\n",
       "3.101961    15800\n",
       "3.101961     4063\n",
       "1.550981     3179\n",
       "1.550981      880\n",
       "Name: jet4b.tag, dtype: int64"
      ]
     },
     "execution_count": 12,
     "metadata": {},
     "output_type": "execute_result"
    }
   ],
   "source": [
    "train_raw['jet4b.tag'].value_counts()"
   ]
  },
  {
   "cell_type": "code",
   "execution_count": 13,
   "metadata": {},
   "outputs": [
    {
     "data": {
      "text/plain": [
       "0.000000    19044\n",
       "3.101961     8605\n",
       "1.550981     1764\n",
       "Name: jet4b.tag, dtype: int64"
      ]
     },
     "execution_count": 13,
     "metadata": {},
     "output_type": "execute_result"
    }
   ],
   "source": [
    "test_raw['jet4b.tag'].value_counts()"
   ]
  },
  {
   "cell_type": "code",
   "execution_count": 14,
   "metadata": {},
   "outputs": [
    {
     "data": {
      "text/plain": [
       "1    52.857101\n",
       "0    47.142899\n",
       "Name: class, dtype: float64"
      ]
     },
     "execution_count": 14,
     "metadata": {},
     "output_type": "execute_result"
    }
   ],
   "source": [
    "(train_raw['class'].value_counts()/train_raw.shape[0])*100"
   ]
  },
  {
   "cell_type": "code",
   "execution_count": 15,
   "metadata": {},
   "outputs": [
    {
     "data": {
      "text/plain": [
       "1    52.859183\n",
       "0    47.140817\n",
       "Name: class, dtype: float64"
      ]
     },
     "execution_count": 15,
     "metadata": {},
     "output_type": "execute_result"
    }
   ],
   "source": [
    "(test_raw['class'].value_counts()/test_raw.shape[0])*100"
   ]
  },
  {
   "cell_type": "code",
   "execution_count": 16,
   "metadata": {},
   "outputs": [
    {
     "name": "stdout",
     "output_type": "stream",
     "text": [
      "<class 'pandas.core.frame.DataFrame'>\n",
      "RangeIndex: 29414 entries, 0 to 29413\n",
      "Data columns (total 30 columns):\n",
      " #   Column                    Non-Null Count  Dtype  \n",
      "---  ------                    --------------  -----  \n",
      " 0   class                     29414 non-null  int64  \n",
      " 1   lepton_pT                 29414 non-null  float64\n",
      " 2   lepton_eta                29414 non-null  float64\n",
      " 3   lepton_phi                29414 non-null  float64\n",
      " 4   missing_energy_magnitude  29414 non-null  float64\n",
      " 5   missing_energy_phi        29414 non-null  float64\n",
      " 6   jet1pt                    29414 non-null  float64\n",
      " 7   jet1eta                   29414 non-null  float64\n",
      " 8   jet1phi                   29414 non-null  float64\n",
      " 9   jet1b.tag                 29414 non-null  float64\n",
      " 10  jet2pt                    29414 non-null  float64\n",
      " 11  jet2eta                   29414 non-null  float64\n",
      " 12  jet2phi                   29414 non-null  float64\n",
      " 13  jet2b.tag                 29414 non-null  float64\n",
      " 14  jet3pt                    29414 non-null  float64\n",
      " 15  jet3eta                   29414 non-null  float64\n",
      " 16  jet3phi                   29414 non-null  float64\n",
      " 17  jet3b.tag                 29414 non-null  float64\n",
      " 18  jet4pt                    29414 non-null  float64\n",
      " 19  jet4eta                   29414 non-null  float64\n",
      " 20  jet4phi                   29413 non-null  float64\n",
      " 21  jet4b.tag                 29413 non-null  float64\n",
      " 22  m_jj                      29413 non-null  float64\n",
      " 23  m_jjj                     29413 non-null  float64\n",
      " 24  m_lv                      29413 non-null  float64\n",
      " 25  m_jlv                     29413 non-null  float64\n",
      " 26  m_bb                      29413 non-null  float64\n",
      " 27  m_wbb                     29413 non-null  float64\n",
      " 28  m_wwbb                    29413 non-null  float64\n",
      " 29  id                        29414 non-null  int64  \n",
      "dtypes: float64(28), int64(2)\n",
      "memory usage: 6.7 MB\n"
     ]
    }
   ],
   "source": [
    "test_raw.info()"
   ]
  },
  {
   "cell_type": "code",
   "execution_count": 17,
   "metadata": {},
   "outputs": [
    {
     "data": {
      "text/plain": [
       "29414"
      ]
     },
     "execution_count": 17,
     "metadata": {},
     "output_type": "execute_result"
    }
   ],
   "source": [
    "test_raw.shape[0]"
   ]
  },
  {
   "cell_type": "code",
   "execution_count": 18,
   "metadata": {},
   "outputs": [
    {
     "name": "stdout",
     "output_type": "stream",
     "text": [
      "<class 'pandas.core.frame.DataFrame'>\n",
      "Int64Index: 29413 entries, 0 to 29412\n",
      "Data columns (total 30 columns):\n",
      " #   Column                    Non-Null Count  Dtype  \n",
      "---  ------                    --------------  -----  \n",
      " 0   class                     29413 non-null  int64  \n",
      " 1   lepton_pT                 29413 non-null  float64\n",
      " 2   lepton_eta                29413 non-null  float64\n",
      " 3   lepton_phi                29413 non-null  float64\n",
      " 4   missing_energy_magnitude  29413 non-null  float64\n",
      " 5   missing_energy_phi        29413 non-null  float64\n",
      " 6   jet1pt                    29413 non-null  float64\n",
      " 7   jet1eta                   29413 non-null  float64\n",
      " 8   jet1phi                   29413 non-null  float64\n",
      " 9   jet1b.tag                 29413 non-null  float64\n",
      " 10  jet2pt                    29413 non-null  float64\n",
      " 11  jet2eta                   29413 non-null  float64\n",
      " 12  jet2phi                   29413 non-null  float64\n",
      " 13  jet2b.tag                 29413 non-null  float64\n",
      " 14  jet3pt                    29413 non-null  float64\n",
      " 15  jet3eta                   29413 non-null  float64\n",
      " 16  jet3phi                   29413 non-null  float64\n",
      " 17  jet3b.tag                 29413 non-null  float64\n",
      " 18  jet4pt                    29413 non-null  float64\n",
      " 19  jet4eta                   29413 non-null  float64\n",
      " 20  jet4phi                   29413 non-null  float64\n",
      " 21  jet4b.tag                 29413 non-null  float64\n",
      " 22  m_jj                      29413 non-null  float64\n",
      " 23  m_jjj                     29413 non-null  float64\n",
      " 24  m_lv                      29413 non-null  float64\n",
      " 25  m_jlv                     29413 non-null  float64\n",
      " 26  m_bb                      29413 non-null  float64\n",
      " 27  m_wbb                     29413 non-null  float64\n",
      " 28  m_wwbb                    29413 non-null  float64\n",
      " 29  id                        29413 non-null  int64  \n",
      "dtypes: float64(28), int64(2)\n",
      "memory usage: 7.0 MB\n"
     ]
    }
   ],
   "source": [
    "## drop loast row since that has all the NA values\n",
    "test_raw.drop(test_raw.index[[test_raw.shape[0]-1]], inplace=True)\n",
    "test_raw.info()"
   ]
  },
  {
   "cell_type": "code",
   "execution_count": 19,
   "metadata": {},
   "outputs": [
    {
     "data": {
      "text/plain": [
       "class                       0\n",
       "lepton_pT                   0\n",
       "lepton_eta                  0\n",
       "lepton_phi                  0\n",
       "missing_energy_magnitude    0\n",
       "missing_energy_phi          0\n",
       "jet1pt                      0\n",
       "jet1eta                     0\n",
       "jet1phi                     0\n",
       "jet1b.tag                   0\n",
       "jet2pt                      0\n",
       "jet2eta                     0\n",
       "jet2phi                     0\n",
       "jet2b.tag                   0\n",
       "jet3pt                      0\n",
       "jet3eta                     0\n",
       "jet3phi                     0\n",
       "jet3b.tag                   0\n",
       "jet4pt                      0\n",
       "jet4eta                     0\n",
       "jet4phi                     0\n",
       "jet4b.tag                   0\n",
       "m_jj                        0\n",
       "m_jjj                       0\n",
       "m_lv                        0\n",
       "m_jlv                       0\n",
       "m_bb                        0\n",
       "m_wbb                       0\n",
       "m_wwbb                      0\n",
       "id                          0\n",
       "dtype: int64"
      ]
     },
     "execution_count": 19,
     "metadata": {},
     "output_type": "execute_result"
    }
   ],
   "source": [
    "test_raw.isna().sum()"
   ]
  },
  {
   "cell_type": "code",
   "execution_count": 20,
   "metadata": {},
   "outputs": [],
   "source": [
    "## we know that \n",
    "# train size:  68636  observations  30 attributes\n",
    "# test size:   29414 observations 30 attributes\n",
    "\n",
    "# We have 68636 and 29414 unique ids in train and test respectively and this nominal data can be removed.\n",
    "# Let's also remove target variable\n",
    "train_data = train_raw.drop(['id', 'class'], axis=1)\n",
    "test_data = test_raw.drop(['id', 'class'], axis=1)"
   ]
  },
  {
   "cell_type": "code",
   "execution_count": 21,
   "metadata": {},
   "outputs": [],
   "source": [
    "from sklearn.model_selection import train_test_split\n",
    "X_train, X_valid, y_train, y_valid = train_test_split(train_data, train_raw['class'], test_size=0.3, random_state=42)\n",
    "X_test, y_test = test_data, test_raw['class'].astype('category')"
   ]
  },
  {
   "cell_type": "code",
   "execution_count": 22,
   "metadata": {},
   "outputs": [
    {
     "name": "stdout",
     "output_type": "stream",
     "text": [
      "shape of X_train: (48045, 28)\n",
      "shape of X_valid: (20591, 28)\n",
      "shape of X_test: (29413, 28)\n"
     ]
    }
   ],
   "source": [
    "print(f'shape of X_train: {X_train.shape}')\n",
    "print(f'shape of X_valid: {X_valid.shape}')\n",
    "print(f'shape of X_test: {X_test.shape}')"
   ]
  },
  {
   "cell_type": "code",
   "execution_count": 23,
   "metadata": {},
   "outputs": [
    {
     "name": "stdout",
     "output_type": "stream",
     "text": [
      "Index(['jet1b.tag', 'jet2b.tag', 'jet3b.tag', 'jet4b.tag'], dtype='object')\n"
     ]
    },
    {
     "data": {
      "text/plain": [
       "Index(['lepton_pT', 'lepton_eta', 'lepton_phi', 'missing_energy_magnitude',\n",
       "       'missing_energy_phi', 'jet1pt', 'jet1eta', 'jet1phi', 'jet2pt',\n",
       "       'jet2eta', 'jet2phi', 'jet3pt', 'jet3eta', 'jet3phi', 'jet4pt',\n",
       "       'jet4eta', 'jet4phi', 'm_jj', 'm_jjj', 'm_lv', 'm_jlv', 'm_bb', 'm_wbb',\n",
       "       'm_wwbb'],\n",
       "      dtype='object')"
      ]
     },
     "execution_count": 23,
     "metadata": {},
     "output_type": "execute_result"
    }
   ],
   "source": [
    "cat_cols = X_train.columns[X_train.nunique() <= 5]\n",
    "print(cat_cols)\n",
    "num_cols = X_train.columns[X_train.nunique() > 5]\n",
    "num_cols"
   ]
  },
  {
   "cell_type": "code",
   "execution_count": 24,
   "metadata": {},
   "outputs": [],
   "source": [
    "## type casting\n",
    "# train\n",
    "X_train_cat = X_train[cat_cols].astype('category')\n",
    "# validation\n",
    "X_valid_cat = X_valid[cat_cols].astype('category')\n",
    "# test\n",
    "X_test_cat = X_test[cat_cols].astype('category')"
   ]
  },
  {
   "cell_type": "code",
   "execution_count": 25,
   "metadata": {},
   "outputs": [],
   "source": [
    "## create a df with for num columns\n",
    "# train\n",
    "X_train_num = X_train[num_cols].reset_index()\n",
    "X_train_num.drop('index', axis=1, inplace=True)\n",
    "# validation\n",
    "X_valid_num = X_valid[num_cols].reset_index()\n",
    "X_valid_num.drop('index', axis=1, inplace=True)\n",
    "# test\n",
    "X_test_num = X_test[num_cols].reset_index()\n",
    "X_test_num.drop('index', axis=1, inplace=True)"
   ]
  },
  {
   "cell_type": "markdown",
   "metadata": {},
   "source": [
    "#### Encoding Categorical Attributes to Numeric - OneHotEncoding"
   ]
  },
  {
   "cell_type": "code",
   "execution_count": 26,
   "metadata": {},
   "outputs": [
    {
     "data": {
      "text/plain": [
       "array(['jet1b.tag_0.0', 'jet1b.tag_1.086538',\n",
       "       'jet1b.tag_1.0865380759999999', 'jet1b.tag_2.173076',\n",
       "       'jet1b.tag_2.1730761530000002', 'jet2b.tag_0.0',\n",
       "       'jet2b.tag_1.107436', 'jet2b.tag_1.107436061',\n",
       "       'jet2b.tag_2.214872', 'jet2b.tag_2.214872122', 'jet3b.tag_0.0',\n",
       "       'jet3b.tag_1.2741120000000001', 'jet3b.tag_1.274112225',\n",
       "       'jet3b.tag_2.5482240000000003', 'jet3b.tag_2.548224449',\n",
       "       'jet4b.tag_0.0', 'jet4b.tag_1.5509806869999998',\n",
       "       'jet4b.tag_1.550981', 'jet4b.tag_3.101961',\n",
       "       'jet4b.tag_3.1019613739999996'], dtype=object)"
      ]
     },
     "execution_count": 26,
     "metadata": {},
     "output_type": "execute_result"
    }
   ],
   "source": [
    "## LabelEncoder\n",
    "onehotencoder = OneHotEncoder(handle_unknown='ignore')\n",
    "\n",
    "## Fit method\n",
    "onehotencoder = onehotencoder.fit(X_train[cat_cols])\n",
    "\n",
    "## Get names for new columns\n",
    "ohe_cat_col_names = onehotencoder.get_feature_names(cat_cols)\n",
    "\n",
    "## Print the above columns names\n",
    "ohe_cat_col_names"
   ]
  },
  {
   "cell_type": "code",
   "execution_count": 27,
   "metadata": {},
   "outputs": [
    {
     "name": "stdout",
     "output_type": "stream",
     "text": [
      "shape of X_train_cat_onehotencoded: (48045, 20)\n"
     ]
    },
    {
     "data": {
      "text/html": [
       "<div>\n",
       "<style scoped>\n",
       "    .dataframe tbody tr th:only-of-type {\n",
       "        vertical-align: middle;\n",
       "    }\n",
       "\n",
       "    .dataframe tbody tr th {\n",
       "        vertical-align: top;\n",
       "    }\n",
       "\n",
       "    .dataframe thead th {\n",
       "        text-align: right;\n",
       "    }\n",
       "</style>\n",
       "<table border=\"1\" class=\"dataframe\">\n",
       "  <thead>\n",
       "    <tr style=\"text-align: right;\">\n",
       "      <th></th>\n",
       "      <th>jet1b.tag_0.0</th>\n",
       "      <th>jet1b.tag_1.086538</th>\n",
       "      <th>jet1b.tag_1.0865380759999999</th>\n",
       "      <th>jet1b.tag_2.173076</th>\n",
       "      <th>jet1b.tag_2.1730761530000002</th>\n",
       "      <th>jet2b.tag_0.0</th>\n",
       "      <th>jet2b.tag_1.107436</th>\n",
       "      <th>jet2b.tag_1.107436061</th>\n",
       "      <th>jet2b.tag_2.214872</th>\n",
       "      <th>jet2b.tag_2.214872122</th>\n",
       "      <th>jet3b.tag_0.0</th>\n",
       "      <th>jet3b.tag_1.2741120000000001</th>\n",
       "      <th>jet3b.tag_1.274112225</th>\n",
       "      <th>jet3b.tag_2.5482240000000003</th>\n",
       "      <th>jet3b.tag_2.548224449</th>\n",
       "      <th>jet4b.tag_0.0</th>\n",
       "      <th>jet4b.tag_1.5509806869999998</th>\n",
       "      <th>jet4b.tag_1.550981</th>\n",
       "      <th>jet4b.tag_3.101961</th>\n",
       "      <th>jet4b.tag_3.1019613739999996</th>\n",
       "    </tr>\n",
       "  </thead>\n",
       "  <tbody>\n",
       "    <tr>\n",
       "      <th>0</th>\n",
       "      <td>0.0</td>\n",
       "      <td>0.0</td>\n",
       "      <td>0.0</td>\n",
       "      <td>1.0</td>\n",
       "      <td>0.0</td>\n",
       "      <td>1.0</td>\n",
       "      <td>0.0</td>\n",
       "      <td>0.0</td>\n",
       "      <td>0.0</td>\n",
       "      <td>0.0</td>\n",
       "      <td>0.0</td>\n",
       "      <td>0.0</td>\n",
       "      <td>0.0</td>\n",
       "      <td>1.0</td>\n",
       "      <td>0.0</td>\n",
       "      <td>1.0</td>\n",
       "      <td>0.0</td>\n",
       "      <td>0.0</td>\n",
       "      <td>0.0</td>\n",
       "      <td>0.0</td>\n",
       "    </tr>\n",
       "    <tr>\n",
       "      <th>1</th>\n",
       "      <td>0.0</td>\n",
       "      <td>0.0</td>\n",
       "      <td>0.0</td>\n",
       "      <td>0.0</td>\n",
       "      <td>1.0</td>\n",
       "      <td>1.0</td>\n",
       "      <td>0.0</td>\n",
       "      <td>0.0</td>\n",
       "      <td>0.0</td>\n",
       "      <td>0.0</td>\n",
       "      <td>0.0</td>\n",
       "      <td>0.0</td>\n",
       "      <td>0.0</td>\n",
       "      <td>0.0</td>\n",
       "      <td>1.0</td>\n",
       "      <td>1.0</td>\n",
       "      <td>0.0</td>\n",
       "      <td>0.0</td>\n",
       "      <td>0.0</td>\n",
       "      <td>0.0</td>\n",
       "    </tr>\n",
       "    <tr>\n",
       "      <th>2</th>\n",
       "      <td>0.0</td>\n",
       "      <td>0.0</td>\n",
       "      <td>1.0</td>\n",
       "      <td>0.0</td>\n",
       "      <td>0.0</td>\n",
       "      <td>1.0</td>\n",
       "      <td>0.0</td>\n",
       "      <td>0.0</td>\n",
       "      <td>0.0</td>\n",
       "      <td>0.0</td>\n",
       "      <td>0.0</td>\n",
       "      <td>0.0</td>\n",
       "      <td>1.0</td>\n",
       "      <td>0.0</td>\n",
       "      <td>0.0</td>\n",
       "      <td>1.0</td>\n",
       "      <td>0.0</td>\n",
       "      <td>0.0</td>\n",
       "      <td>0.0</td>\n",
       "      <td>0.0</td>\n",
       "    </tr>\n",
       "    <tr>\n",
       "      <th>3</th>\n",
       "      <td>0.0</td>\n",
       "      <td>0.0</td>\n",
       "      <td>0.0</td>\n",
       "      <td>1.0</td>\n",
       "      <td>0.0</td>\n",
       "      <td>0.0</td>\n",
       "      <td>0.0</td>\n",
       "      <td>0.0</td>\n",
       "      <td>1.0</td>\n",
       "      <td>0.0</td>\n",
       "      <td>1.0</td>\n",
       "      <td>0.0</td>\n",
       "      <td>0.0</td>\n",
       "      <td>0.0</td>\n",
       "      <td>0.0</td>\n",
       "      <td>1.0</td>\n",
       "      <td>0.0</td>\n",
       "      <td>0.0</td>\n",
       "      <td>0.0</td>\n",
       "      <td>0.0</td>\n",
       "    </tr>\n",
       "    <tr>\n",
       "      <th>4</th>\n",
       "      <td>0.0</td>\n",
       "      <td>0.0</td>\n",
       "      <td>1.0</td>\n",
       "      <td>0.0</td>\n",
       "      <td>0.0</td>\n",
       "      <td>1.0</td>\n",
       "      <td>0.0</td>\n",
       "      <td>0.0</td>\n",
       "      <td>0.0</td>\n",
       "      <td>0.0</td>\n",
       "      <td>0.0</td>\n",
       "      <td>0.0</td>\n",
       "      <td>0.0</td>\n",
       "      <td>0.0</td>\n",
       "      <td>1.0</td>\n",
       "      <td>1.0</td>\n",
       "      <td>0.0</td>\n",
       "      <td>0.0</td>\n",
       "      <td>0.0</td>\n",
       "      <td>0.0</td>\n",
       "    </tr>\n",
       "  </tbody>\n",
       "</table>\n",
       "</div>"
      ],
      "text/plain": [
       "   jet1b.tag_0.0  jet1b.tag_1.086538  jet1b.tag_1.0865380759999999  \\\n",
       "0            0.0                 0.0                           0.0   \n",
       "1            0.0                 0.0                           0.0   \n",
       "2            0.0                 0.0                           1.0   \n",
       "3            0.0                 0.0                           0.0   \n",
       "4            0.0                 0.0                           1.0   \n",
       "\n",
       "   jet1b.tag_2.173076  jet1b.tag_2.1730761530000002  jet2b.tag_0.0  \\\n",
       "0                 1.0                           0.0            1.0   \n",
       "1                 0.0                           1.0            1.0   \n",
       "2                 0.0                           0.0            1.0   \n",
       "3                 1.0                           0.0            0.0   \n",
       "4                 0.0                           0.0            1.0   \n",
       "\n",
       "   jet2b.tag_1.107436  jet2b.tag_1.107436061  jet2b.tag_2.214872  \\\n",
       "0                 0.0                    0.0                 0.0   \n",
       "1                 0.0                    0.0                 0.0   \n",
       "2                 0.0                    0.0                 0.0   \n",
       "3                 0.0                    0.0                 1.0   \n",
       "4                 0.0                    0.0                 0.0   \n",
       "\n",
       "   jet2b.tag_2.214872122  jet3b.tag_0.0  jet3b.tag_1.2741120000000001  \\\n",
       "0                    0.0            0.0                           0.0   \n",
       "1                    0.0            0.0                           0.0   \n",
       "2                    0.0            0.0                           0.0   \n",
       "3                    0.0            1.0                           0.0   \n",
       "4                    0.0            0.0                           0.0   \n",
       "\n",
       "   jet3b.tag_1.274112225  jet3b.tag_2.5482240000000003  jet3b.tag_2.548224449  \\\n",
       "0                    0.0                           1.0                    0.0   \n",
       "1                    0.0                           0.0                    1.0   \n",
       "2                    1.0                           0.0                    0.0   \n",
       "3                    0.0                           0.0                    0.0   \n",
       "4                    0.0                           0.0                    1.0   \n",
       "\n",
       "   jet4b.tag_0.0  jet4b.tag_1.5509806869999998  jet4b.tag_1.550981  \\\n",
       "0            1.0                           0.0                 0.0   \n",
       "1            1.0                           0.0                 0.0   \n",
       "2            1.0                           0.0                 0.0   \n",
       "3            1.0                           0.0                 0.0   \n",
       "4            1.0                           0.0                 0.0   \n",
       "\n",
       "   jet4b.tag_3.101961  jet4b.tag_3.1019613739999996  \n",
       "0                 0.0                           0.0  \n",
       "1                 0.0                           0.0  \n",
       "2                 0.0                           0.0  \n",
       "3                 0.0                           0.0  \n",
       "4                 0.0                           0.0  "
      ]
     },
     "execution_count": 27,
     "metadata": {},
     "output_type": "execute_result"
    }
   ],
   "source": [
    "## Encode X_train category columns \n",
    "X_train_cat_onehotencoded = onehotencoder.transform(X_train[cat_cols]).toarray()\n",
    "X_train_cat_onehotencoded = pd.DataFrame(X_train_cat_onehotencoded, columns=ohe_cat_col_names)\n",
    "print(f'shape of X_train_cat_onehotencoded: {X_train_cat_onehotencoded.shape}')\n",
    "X_train_cat_onehotencoded.head()"
   ]
  },
  {
   "cell_type": "code",
   "execution_count": 28,
   "metadata": {},
   "outputs": [
    {
     "name": "stdout",
     "output_type": "stream",
     "text": [
      "shape of X_valid_cat_onehotencoded: (20591, 20)\n"
     ]
    },
    {
     "data": {
      "text/html": [
       "<div>\n",
       "<style scoped>\n",
       "    .dataframe tbody tr th:only-of-type {\n",
       "        vertical-align: middle;\n",
       "    }\n",
       "\n",
       "    .dataframe tbody tr th {\n",
       "        vertical-align: top;\n",
       "    }\n",
       "\n",
       "    .dataframe thead th {\n",
       "        text-align: right;\n",
       "    }\n",
       "</style>\n",
       "<table border=\"1\" class=\"dataframe\">\n",
       "  <thead>\n",
       "    <tr style=\"text-align: right;\">\n",
       "      <th></th>\n",
       "      <th>jet1b.tag_0.0</th>\n",
       "      <th>jet1b.tag_1.086538</th>\n",
       "      <th>jet1b.tag_1.0865380759999999</th>\n",
       "      <th>jet1b.tag_2.173076</th>\n",
       "      <th>jet1b.tag_2.1730761530000002</th>\n",
       "      <th>jet2b.tag_0.0</th>\n",
       "      <th>jet2b.tag_1.107436</th>\n",
       "      <th>jet2b.tag_1.107436061</th>\n",
       "      <th>jet2b.tag_2.214872</th>\n",
       "      <th>jet2b.tag_2.214872122</th>\n",
       "      <th>jet3b.tag_0.0</th>\n",
       "      <th>jet3b.tag_1.2741120000000001</th>\n",
       "      <th>jet3b.tag_1.274112225</th>\n",
       "      <th>jet3b.tag_2.5482240000000003</th>\n",
       "      <th>jet3b.tag_2.548224449</th>\n",
       "      <th>jet4b.tag_0.0</th>\n",
       "      <th>jet4b.tag_1.5509806869999998</th>\n",
       "      <th>jet4b.tag_1.550981</th>\n",
       "      <th>jet4b.tag_3.101961</th>\n",
       "      <th>jet4b.tag_3.1019613739999996</th>\n",
       "    </tr>\n",
       "  </thead>\n",
       "  <tbody>\n",
       "    <tr>\n",
       "      <th>0</th>\n",
       "      <td>1.0</td>\n",
       "      <td>0.0</td>\n",
       "      <td>0.0</td>\n",
       "      <td>0.0</td>\n",
       "      <td>0.0</td>\n",
       "      <td>1.0</td>\n",
       "      <td>0.0</td>\n",
       "      <td>0.0</td>\n",
       "      <td>0.0</td>\n",
       "      <td>0.0</td>\n",
       "      <td>0.0</td>\n",
       "      <td>0.0</td>\n",
       "      <td>0.0</td>\n",
       "      <td>1.0</td>\n",
       "      <td>0.0</td>\n",
       "      <td>1.0</td>\n",
       "      <td>0.0</td>\n",
       "      <td>0.0</td>\n",
       "      <td>0.0</td>\n",
       "      <td>0.0</td>\n",
       "    </tr>\n",
       "    <tr>\n",
       "      <th>1</th>\n",
       "      <td>0.0</td>\n",
       "      <td>0.0</td>\n",
       "      <td>0.0</td>\n",
       "      <td>1.0</td>\n",
       "      <td>0.0</td>\n",
       "      <td>1.0</td>\n",
       "      <td>0.0</td>\n",
       "      <td>0.0</td>\n",
       "      <td>0.0</td>\n",
       "      <td>0.0</td>\n",
       "      <td>1.0</td>\n",
       "      <td>0.0</td>\n",
       "      <td>0.0</td>\n",
       "      <td>0.0</td>\n",
       "      <td>0.0</td>\n",
       "      <td>0.0</td>\n",
       "      <td>0.0</td>\n",
       "      <td>0.0</td>\n",
       "      <td>1.0</td>\n",
       "      <td>0.0</td>\n",
       "    </tr>\n",
       "    <tr>\n",
       "      <th>2</th>\n",
       "      <td>1.0</td>\n",
       "      <td>0.0</td>\n",
       "      <td>0.0</td>\n",
       "      <td>0.0</td>\n",
       "      <td>0.0</td>\n",
       "      <td>0.0</td>\n",
       "      <td>0.0</td>\n",
       "      <td>1.0</td>\n",
       "      <td>0.0</td>\n",
       "      <td>0.0</td>\n",
       "      <td>0.0</td>\n",
       "      <td>0.0</td>\n",
       "      <td>0.0</td>\n",
       "      <td>0.0</td>\n",
       "      <td>1.0</td>\n",
       "      <td>1.0</td>\n",
       "      <td>0.0</td>\n",
       "      <td>0.0</td>\n",
       "      <td>0.0</td>\n",
       "      <td>0.0</td>\n",
       "    </tr>\n",
       "    <tr>\n",
       "      <th>3</th>\n",
       "      <td>0.0</td>\n",
       "      <td>0.0</td>\n",
       "      <td>0.0</td>\n",
       "      <td>1.0</td>\n",
       "      <td>0.0</td>\n",
       "      <td>1.0</td>\n",
       "      <td>0.0</td>\n",
       "      <td>0.0</td>\n",
       "      <td>0.0</td>\n",
       "      <td>0.0</td>\n",
       "      <td>1.0</td>\n",
       "      <td>0.0</td>\n",
       "      <td>0.0</td>\n",
       "      <td>0.0</td>\n",
       "      <td>0.0</td>\n",
       "      <td>0.0</td>\n",
       "      <td>0.0</td>\n",
       "      <td>0.0</td>\n",
       "      <td>1.0</td>\n",
       "      <td>0.0</td>\n",
       "    </tr>\n",
       "    <tr>\n",
       "      <th>4</th>\n",
       "      <td>1.0</td>\n",
       "      <td>0.0</td>\n",
       "      <td>0.0</td>\n",
       "      <td>0.0</td>\n",
       "      <td>0.0</td>\n",
       "      <td>0.0</td>\n",
       "      <td>0.0</td>\n",
       "      <td>0.0</td>\n",
       "      <td>0.0</td>\n",
       "      <td>1.0</td>\n",
       "      <td>1.0</td>\n",
       "      <td>0.0</td>\n",
       "      <td>0.0</td>\n",
       "      <td>0.0</td>\n",
       "      <td>0.0</td>\n",
       "      <td>0.0</td>\n",
       "      <td>0.0</td>\n",
       "      <td>0.0</td>\n",
       "      <td>0.0</td>\n",
       "      <td>1.0</td>\n",
       "    </tr>\n",
       "  </tbody>\n",
       "</table>\n",
       "</div>"
      ],
      "text/plain": [
       "   jet1b.tag_0.0  jet1b.tag_1.086538  jet1b.tag_1.0865380759999999  \\\n",
       "0            1.0                 0.0                           0.0   \n",
       "1            0.0                 0.0                           0.0   \n",
       "2            1.0                 0.0                           0.0   \n",
       "3            0.0                 0.0                           0.0   \n",
       "4            1.0                 0.0                           0.0   \n",
       "\n",
       "   jet1b.tag_2.173076  jet1b.tag_2.1730761530000002  jet2b.tag_0.0  \\\n",
       "0                 0.0                           0.0            1.0   \n",
       "1                 1.0                           0.0            1.0   \n",
       "2                 0.0                           0.0            0.0   \n",
       "3                 1.0                           0.0            1.0   \n",
       "4                 0.0                           0.0            0.0   \n",
       "\n",
       "   jet2b.tag_1.107436  jet2b.tag_1.107436061  jet2b.tag_2.214872  \\\n",
       "0                 0.0                    0.0                 0.0   \n",
       "1                 0.0                    0.0                 0.0   \n",
       "2                 0.0                    1.0                 0.0   \n",
       "3                 0.0                    0.0                 0.0   \n",
       "4                 0.0                    0.0                 0.0   \n",
       "\n",
       "   jet2b.tag_2.214872122  jet3b.tag_0.0  jet3b.tag_1.2741120000000001  \\\n",
       "0                    0.0            0.0                           0.0   \n",
       "1                    0.0            1.0                           0.0   \n",
       "2                    0.0            0.0                           0.0   \n",
       "3                    0.0            1.0                           0.0   \n",
       "4                    1.0            1.0                           0.0   \n",
       "\n",
       "   jet3b.tag_1.274112225  jet3b.tag_2.5482240000000003  jet3b.tag_2.548224449  \\\n",
       "0                    0.0                           1.0                    0.0   \n",
       "1                    0.0                           0.0                    0.0   \n",
       "2                    0.0                           0.0                    1.0   \n",
       "3                    0.0                           0.0                    0.0   \n",
       "4                    0.0                           0.0                    0.0   \n",
       "\n",
       "   jet4b.tag_0.0  jet4b.tag_1.5509806869999998  jet4b.tag_1.550981  \\\n",
       "0            1.0                           0.0                 0.0   \n",
       "1            0.0                           0.0                 0.0   \n",
       "2            1.0                           0.0                 0.0   \n",
       "3            0.0                           0.0                 0.0   \n",
       "4            0.0                           0.0                 0.0   \n",
       "\n",
       "   jet4b.tag_3.101961  jet4b.tag_3.1019613739999996  \n",
       "0                 0.0                           0.0  \n",
       "1                 1.0                           0.0  \n",
       "2                 0.0                           0.0  \n",
       "3                 1.0                           0.0  \n",
       "4                 0.0                           1.0  "
      ]
     },
     "execution_count": 28,
     "metadata": {},
     "output_type": "execute_result"
    }
   ],
   "source": [
    "## Encode X_valid category columns \n",
    "X_valid_cat_onehotencoded = onehotencoder.transform(X_valid[cat_cols]).toarray()\n",
    "X_valid_cat_onehotencoded = pd.DataFrame(X_valid_cat_onehotencoded, columns=ohe_cat_col_names)\n",
    "print(f'shape of X_valid_cat_onehotencoded: {X_valid_cat_onehotencoded.shape}')\n",
    "X_valid_cat_onehotencoded.head()"
   ]
  },
  {
   "cell_type": "code",
   "execution_count": 29,
   "metadata": {},
   "outputs": [
    {
     "name": "stdout",
     "output_type": "stream",
     "text": [
      "shape of X_test_cat_onehotencoded: (29413, 20)\n"
     ]
    },
    {
     "data": {
      "text/html": [
       "<div>\n",
       "<style scoped>\n",
       "    .dataframe tbody tr th:only-of-type {\n",
       "        vertical-align: middle;\n",
       "    }\n",
       "\n",
       "    .dataframe tbody tr th {\n",
       "        vertical-align: top;\n",
       "    }\n",
       "\n",
       "    .dataframe thead th {\n",
       "        text-align: right;\n",
       "    }\n",
       "</style>\n",
       "<table border=\"1\" class=\"dataframe\">\n",
       "  <thead>\n",
       "    <tr style=\"text-align: right;\">\n",
       "      <th></th>\n",
       "      <th>jet1b.tag_0.0</th>\n",
       "      <th>jet1b.tag_1.086538</th>\n",
       "      <th>jet1b.tag_1.0865380759999999</th>\n",
       "      <th>jet1b.tag_2.173076</th>\n",
       "      <th>jet1b.tag_2.1730761530000002</th>\n",
       "      <th>jet2b.tag_0.0</th>\n",
       "      <th>jet2b.tag_1.107436</th>\n",
       "      <th>jet2b.tag_1.107436061</th>\n",
       "      <th>jet2b.tag_2.214872</th>\n",
       "      <th>jet2b.tag_2.214872122</th>\n",
       "      <th>jet3b.tag_0.0</th>\n",
       "      <th>jet3b.tag_1.2741120000000001</th>\n",
       "      <th>jet3b.tag_1.274112225</th>\n",
       "      <th>jet3b.tag_2.5482240000000003</th>\n",
       "      <th>jet3b.tag_2.548224449</th>\n",
       "      <th>jet4b.tag_0.0</th>\n",
       "      <th>jet4b.tag_1.5509806869999998</th>\n",
       "      <th>jet4b.tag_1.550981</th>\n",
       "      <th>jet4b.tag_3.101961</th>\n",
       "      <th>jet4b.tag_3.1019613739999996</th>\n",
       "    </tr>\n",
       "  </thead>\n",
       "  <tbody>\n",
       "    <tr>\n",
       "      <th>0</th>\n",
       "      <td>1.0</td>\n",
       "      <td>0.0</td>\n",
       "      <td>0.0</td>\n",
       "      <td>0.0</td>\n",
       "      <td>0.0</td>\n",
       "      <td>0.0</td>\n",
       "      <td>0.0</td>\n",
       "      <td>0.0</td>\n",
       "      <td>0.0</td>\n",
       "      <td>1.0</td>\n",
       "      <td>1.0</td>\n",
       "      <td>0.0</td>\n",
       "      <td>0.0</td>\n",
       "      <td>0.0</td>\n",
       "      <td>0.0</td>\n",
       "      <td>1.0</td>\n",
       "      <td>0.0</td>\n",
       "      <td>0.0</td>\n",
       "      <td>0.0</td>\n",
       "      <td>0.0</td>\n",
       "    </tr>\n",
       "    <tr>\n",
       "      <th>1</th>\n",
       "      <td>1.0</td>\n",
       "      <td>0.0</td>\n",
       "      <td>0.0</td>\n",
       "      <td>0.0</td>\n",
       "      <td>0.0</td>\n",
       "      <td>1.0</td>\n",
       "      <td>0.0</td>\n",
       "      <td>0.0</td>\n",
       "      <td>0.0</td>\n",
       "      <td>0.0</td>\n",
       "      <td>0.0</td>\n",
       "      <td>0.0</td>\n",
       "      <td>0.0</td>\n",
       "      <td>0.0</td>\n",
       "      <td>1.0</td>\n",
       "      <td>1.0</td>\n",
       "      <td>0.0</td>\n",
       "      <td>0.0</td>\n",
       "      <td>0.0</td>\n",
       "      <td>0.0</td>\n",
       "    </tr>\n",
       "    <tr>\n",
       "      <th>2</th>\n",
       "      <td>0.0</td>\n",
       "      <td>0.0</td>\n",
       "      <td>0.0</td>\n",
       "      <td>0.0</td>\n",
       "      <td>1.0</td>\n",
       "      <td>1.0</td>\n",
       "      <td>0.0</td>\n",
       "      <td>0.0</td>\n",
       "      <td>0.0</td>\n",
       "      <td>0.0</td>\n",
       "      <td>1.0</td>\n",
       "      <td>0.0</td>\n",
       "      <td>0.0</td>\n",
       "      <td>0.0</td>\n",
       "      <td>0.0</td>\n",
       "      <td>0.0</td>\n",
       "      <td>0.0</td>\n",
       "      <td>0.0</td>\n",
       "      <td>0.0</td>\n",
       "      <td>1.0</td>\n",
       "    </tr>\n",
       "    <tr>\n",
       "      <th>3</th>\n",
       "      <td>0.0</td>\n",
       "      <td>0.0</td>\n",
       "      <td>1.0</td>\n",
       "      <td>0.0</td>\n",
       "      <td>0.0</td>\n",
       "      <td>1.0</td>\n",
       "      <td>0.0</td>\n",
       "      <td>0.0</td>\n",
       "      <td>0.0</td>\n",
       "      <td>0.0</td>\n",
       "      <td>1.0</td>\n",
       "      <td>0.0</td>\n",
       "      <td>0.0</td>\n",
       "      <td>0.0</td>\n",
       "      <td>0.0</td>\n",
       "      <td>0.0</td>\n",
       "      <td>0.0</td>\n",
       "      <td>0.0</td>\n",
       "      <td>0.0</td>\n",
       "      <td>1.0</td>\n",
       "    </tr>\n",
       "    <tr>\n",
       "      <th>4</th>\n",
       "      <td>0.0</td>\n",
       "      <td>0.0</td>\n",
       "      <td>0.0</td>\n",
       "      <td>0.0</td>\n",
       "      <td>1.0</td>\n",
       "      <td>0.0</td>\n",
       "      <td>0.0</td>\n",
       "      <td>1.0</td>\n",
       "      <td>0.0</td>\n",
       "      <td>0.0</td>\n",
       "      <td>1.0</td>\n",
       "      <td>0.0</td>\n",
       "      <td>0.0</td>\n",
       "      <td>0.0</td>\n",
       "      <td>0.0</td>\n",
       "      <td>1.0</td>\n",
       "      <td>0.0</td>\n",
       "      <td>0.0</td>\n",
       "      <td>0.0</td>\n",
       "      <td>0.0</td>\n",
       "    </tr>\n",
       "  </tbody>\n",
       "</table>\n",
       "</div>"
      ],
      "text/plain": [
       "   jet1b.tag_0.0  jet1b.tag_1.086538  jet1b.tag_1.0865380759999999  \\\n",
       "0            1.0                 0.0                           0.0   \n",
       "1            1.0                 0.0                           0.0   \n",
       "2            0.0                 0.0                           0.0   \n",
       "3            0.0                 0.0                           1.0   \n",
       "4            0.0                 0.0                           0.0   \n",
       "\n",
       "   jet1b.tag_2.173076  jet1b.tag_2.1730761530000002  jet2b.tag_0.0  \\\n",
       "0                 0.0                           0.0            0.0   \n",
       "1                 0.0                           0.0            1.0   \n",
       "2                 0.0                           1.0            1.0   \n",
       "3                 0.0                           0.0            1.0   \n",
       "4                 0.0                           1.0            0.0   \n",
       "\n",
       "   jet2b.tag_1.107436  jet2b.tag_1.107436061  jet2b.tag_2.214872  \\\n",
       "0                 0.0                    0.0                 0.0   \n",
       "1                 0.0                    0.0                 0.0   \n",
       "2                 0.0                    0.0                 0.0   \n",
       "3                 0.0                    0.0                 0.0   \n",
       "4                 0.0                    1.0                 0.0   \n",
       "\n",
       "   jet2b.tag_2.214872122  jet3b.tag_0.0  jet3b.tag_1.2741120000000001  \\\n",
       "0                    1.0            1.0                           0.0   \n",
       "1                    0.0            0.0                           0.0   \n",
       "2                    0.0            1.0                           0.0   \n",
       "3                    0.0            1.0                           0.0   \n",
       "4                    0.0            1.0                           0.0   \n",
       "\n",
       "   jet3b.tag_1.274112225  jet3b.tag_2.5482240000000003  jet3b.tag_2.548224449  \\\n",
       "0                    0.0                           0.0                    0.0   \n",
       "1                    0.0                           0.0                    1.0   \n",
       "2                    0.0                           0.0                    0.0   \n",
       "3                    0.0                           0.0                    0.0   \n",
       "4                    0.0                           0.0                    0.0   \n",
       "\n",
       "   jet4b.tag_0.0  jet4b.tag_1.5509806869999998  jet4b.tag_1.550981  \\\n",
       "0            1.0                           0.0                 0.0   \n",
       "1            1.0                           0.0                 0.0   \n",
       "2            0.0                           0.0                 0.0   \n",
       "3            0.0                           0.0                 0.0   \n",
       "4            1.0                           0.0                 0.0   \n",
       "\n",
       "   jet4b.tag_3.101961  jet4b.tag_3.1019613739999996  \n",
       "0                 0.0                           0.0  \n",
       "1                 0.0                           0.0  \n",
       "2                 0.0                           1.0  \n",
       "3                 0.0                           1.0  \n",
       "4                 0.0                           0.0  "
      ]
     },
     "execution_count": 29,
     "metadata": {},
     "output_type": "execute_result"
    }
   ],
   "source": [
    "## Encode X_test category columns \n",
    "X_test_cat_onehotencoded = onehotencoder.transform(X_test[cat_cols]).toarray()\n",
    "X_test_cat_onehotencoded = pd.DataFrame(X_test_cat_onehotencoded, columns=ohe_cat_col_names)\n",
    "print(f'shape of X_test_cat_onehotencoded: {X_test_cat_onehotencoded.shape}')\n",
    "X_test_cat_onehotencoded.head()"
   ]
  },
  {
   "cell_type": "code",
   "execution_count": 30,
   "metadata": {},
   "outputs": [
    {
     "data": {
      "text/plain": [
       "(48045, 44)"
      ]
     },
     "execution_count": 30,
     "metadata": {},
     "output_type": "execute_result"
    }
   ],
   "source": [
    "X_train = pd.concat([X_train_cat_onehotencoded, X_train_num], axis=1)\n",
    "X_train.shape"
   ]
  },
  {
   "cell_type": "code",
   "execution_count": 31,
   "metadata": {},
   "outputs": [
    {
     "data": {
      "text/plain": [
       "(20591, 44)"
      ]
     },
     "execution_count": 31,
     "metadata": {},
     "output_type": "execute_result"
    }
   ],
   "source": [
    "X_valid = pd.concat([X_valid_cat_onehotencoded, X_valid_num], axis=1)\n",
    "X_valid.shape"
   ]
  },
  {
   "cell_type": "code",
   "execution_count": 32,
   "metadata": {},
   "outputs": [
    {
     "data": {
      "text/plain": [
       "(29413, 44)"
      ]
     },
     "execution_count": 32,
     "metadata": {},
     "output_type": "execute_result"
    }
   ],
   "source": [
    "X_test = pd.concat([X_test_cat_onehotencoded, X_test_num], axis=1)\n",
    "X_test.shape"
   ]
  },
  {
   "cell_type": "code",
   "execution_count": 33,
   "metadata": {},
   "outputs": [
    {
     "data": {
      "text/plain": [
       "<matplotlib.axes._subplots.AxesSubplot at 0x1016e7450>"
      ]
     },
     "execution_count": 33,
     "metadata": {},
     "output_type": "execute_result"
    },
    {
     "data": {
      "image/png": "[encoded data removed]",
      "text/plain": [
       "<Figure size 792x648 with 2 Axes>"
      ]
     },
     "metadata": {
      "needs_background": "light"
     },
     "output_type": "display_data"
    }
   ],
   "source": [
    "corr = X_train.corr()\n",
    "mask = np.triu(np.ones_like(corr, dtype=np.bool))\n",
    "f, ax = plt.subplots(figsize=(11, 9))\n",
    "cmap = sns.diverging_palette(220, 10, as_cmap=True)\n",
    "sns.heatmap(corr, mask=mask, cmap=cmap, vmax=.3, center=0,\n",
    "            square=True, linewidths=.5, cbar_kws={\"shrink\": .5})"
   ]
  },
  {
   "cell_type": "code",
   "execution_count": 34,
   "metadata": {},
   "outputs": [],
   "source": [
    "## Not that easy to gain insights\n",
    "## Let's take a look at categorical variables\n",
    "# def cramers_v(x, y):\n",
    "#     confusion_matrix = pd.crosstab(x,y)\n",
    "#     chi2 = ss.chi2_contingency(confusion_matrix)[0]\n",
    "#     n = confusion_matrix.sum().sum()\n",
    "#     phi2 = chi2/n\n",
    "#     r,k = confusion_matrix.shape\n",
    "#     phi2corr = max(0, phi2-((k-1)*(r-1))/(n-1))\n",
    "#     rcorr = r-((r-1)**2)/(n-1)\n",
    "#     kcorr = k-((k-1)**2)/(n-1)\n",
    "#     return np.sqrt(phi2corr/min((kcorr-1),(rcorr-1)))\n",
    "# classVsjet1b = cramers_v(y_train, train_data['jet1b.tag'])\n",
    "# classVsjet1b"
   ]
  },
  {
   "cell_type": "markdown",
   "metadata": {},
   "source": [
    "## Modelling"
   ]
  },
  {
   "cell_type": "code",
   "execution_count": 35,
   "metadata": {},
   "outputs": [],
   "source": [
    "from sklearn.model_selection import GridSearchCV\n",
    "from sklearn.model_selection import StratifiedKFold\n",
    "kfold = StratifiedKFold(n_splits=5, shuffle=True, random_state=143)"
   ]
  },
  {
   "cell_type": "markdown",
   "metadata": {},
   "source": [
    "## Naive Bayes"
   ]
  },
  {
   "cell_type": "code",
   "execution_count": null,
   "metadata": {},
   "outputs": [],
   "source": [
    "from sklearn.naive_bayes import GaussianNB\n",
    "# grid params\n",
    "grid_nb = {'var_smoothing':[1]}\n",
    "# model object\n",
    "model_nb = GaussianNB()\n",
    "# grid object\n",
    "gs_object_nb = GridSearchCV(estimator=model_nb, param_grid=grid_nb, cv = kfold, n_jobs=-1)\n",
    "# fit on train\n",
    "gs_object_nb.fit(X_train, y_train)\n",
    "# predict on train\n",
    "y_train_pred = gs_object_nb.predict(X_train)\n",
    "print(f'train accuracy: {accuracy_score(y_train, y_train_pred)}')\n",
    "# predict on test\n",
    "y_test_pred = gs_object_nb.predict(X_test)\n",
    "print(f'test accuracy: {accuracy_score(y_test, y_test_pred)}')"
   ]
  },
  {
   "cell_type": "code",
   "execution_count": 36,
   "metadata": {},
   "outputs": [
    {
     "name": "stdout",
     "output_type": "stream",
     "text": [
      "train accuracy: 0.5934644604017068\n",
      "test accuracy: 0.5852514194403835\n"
     ]
    }
   ],
   "source": [
    "## plain vanilla NB\n",
    "from sklearn.naive_bayes import GaussianNB\n",
    "# model object\n",
    "nb = GaussianNB()\n",
    "# fit on train\n",
    "nb.fit(X_train, y_train)\n",
    "# predict on train\n",
    "y_train_pred = nb.predict(X_train)\n",
    "print(f'train accuracy: {accuracy_score(y_train, y_train_pred)}')\n",
    "# predict on test\n",
    "y_test_pred = nb.predict(X_test)\n",
    "print(f'test accuracy: {accuracy_score(y_test, y_test_pred)}')"
   ]
  },
  {
   "cell_type": "code",
   "execution_count": 37,
   "metadata": {},
   "outputs": [
    {
     "name": "stdout",
     "output_type": "stream",
     "text": [
      "train accuracy: 0.5934644604017068\n",
      "test accuracy: 0.590963179546459\n"
     ]
    }
   ],
   "source": [
    "from sklearn.naive_bayes import GaussianNB\n",
    "from sklearn.preprocessing import StandardScaler\n",
    "scaler = StandardScaler()\n",
    "X_train_scaled = pd.DataFrame(scaler.fit_transform(X_train), columns=X_train.columns)\n",
    "X_test_scaled = pd.DataFrame(scaler.fit_transform(X_test), columns=X_test.columns)\n",
    "\n",
    "# fit on train\n",
    "nb.fit(X_train_scaled, y_train)\n",
    "# predict on train\n",
    "y_train_pred = nb.predict(X_train_scaled)\n",
    "print(f'train accuracy: {accuracy_score(y_train, y_train_pred)}')\n",
    "# predict on test\n",
    "y_test_pred = nb.predict(X_test_scaled)\n",
    "print(f'test accuracy: {accuracy_score(y_test, y_test_pred)}')"
   ]
  },
  {
   "cell_type": "markdown",
   "metadata": {},
   "source": [
    "## Logistic Regression"
   ]
  },
  {
   "cell_type": "code",
   "execution_count": null,
   "metadata": {},
   "outputs": [],
   "source": [
    "## Plain vanilla\n",
    "from sklearn.linear_model import LogisticRegression\n",
    "log_reg = LogisticRegression()\n",
    "log_reg.fit(X_train, y_train)\n",
    "y_train_pred = log_reg.predict(X_train)\n",
    "print(f'train accuracy: {accuracy_score(y_train, y_train_pred)}')\n",
    "y_test_pred = log_reg.predict(X_test)\n",
    "print(f'test accuracy: {accuracy_score(y_test, y_test_pred)}')"
   ]
  },
  {
   "cell_type": "code",
   "execution_count": null,
   "metadata": {},
   "outputs": [],
   "source": [
    "# grid params\n",
    "grid_lr = {'solver':['newton-cg', 'lbfgs', 'liblinear', 'sag', 'saga']}\n",
    "# model object\n",
    "model_lr = LogisticRegression()\n",
    "# grid object\n",
    "gs_object_lr = GridSearchCV(estimator=model_lr, param_grid=grid_lr, cv = kfold, n_jobs=-1, verbose=5)\n",
    "# fit on train\n",
    "gs_object_lr.fit(X_train, y_train)\n",
    "print('\\n')\n",
    "# best params\n",
    "print(f'best_params: {gs_object_lr.best_params_}')\n",
    "# best estimator\n",
    "print(f'best_estimator: {gs_object_lr.best_estimator_}')\n",
    "# predict on train\n",
    "y_train_pred = gs_object_lr.predict(X_train)\n",
    "print(f'train accuracy: {accuracy_score(y_train, y_train_pred)}')\n",
    "# predict on test\n",
    "y_test_pred = gs_object_lr.predict(X_test)\n",
    "print(f'test accuracy: {accuracy_score(y_test, y_test_pred)}')"
   ]
  },
  {
   "cell_type": "code",
   "execution_count": null,
   "metadata": {},
   "outputs": [],
   "source": [
    "# grid params\n",
    "grid_lr = {'solver':['newton-cg'], 'penalty':['none']}\n",
    "# model object\n",
    "model_lr = LogisticRegression()\n",
    "# grid object\n",
    "gs_object_lr = GridSearchCV(estimator=model_lr, param_grid=grid_lr, cv = kfold, n_jobs=-1, verbose=5)\n",
    "# fit on train\n",
    "gs_object_lr.fit(X_train, y_train)\n",
    "print('\\n')\n",
    "# best params\n",
    "print(f'best_params: {gs_object_lr.best_params_}')\n",
    "# best estimator\n",
    "print(f'best_estimator: {gs_object_lr.best_estimator_}')\n",
    "# predict on train\n",
    "y_train_pred = gs_object_lr.predict(X_train)\n",
    "print(f'train accuracy: {accuracy_score(y_train, y_train_pred)}')\n",
    "# predict on test\n",
    "y_test_pred = gs_object_lr.predict(X_test)\n",
    "print(f'test accuracy: {accuracy_score(y_test, y_test_pred)}')"
   ]
  },
  {
   "cell_type": "markdown",
   "metadata": {},
   "source": [
    "## Linear Support Vector Classifier"
   ]
  },
  {
   "cell_type": "code",
   "execution_count": null,
   "metadata": {},
   "outputs": [],
   "source": [
    "## plain vanilla\n",
    "from sklearn.svm import LinearSVC\n",
    "livearSVC = LinearSVC(max_iter=50000)\n",
    "livearSVC.fit(X_train, y_train)\n",
    "y_train_pred = livearSVC.predict(X_train)\n",
    "print(f'train accuracy: {accuracy_score(y_train, y_train_pred)}')\n",
    "y_test_pred = livearSVC.predict(X_test)\n",
    "print(f'test accuracy: {accuracy_score(y_test, y_test_pred)}')"
   ]
  },
  {
   "cell_type": "code",
   "execution_count": null,
   "metadata": {},
   "outputs": [],
   "source": [
    "from sklearn.svm import LinearSVC\n",
    "# grid params\n",
    "grid_lsvc = {'penalty':[str, 'l1','l2'], 'C':[1.0, 0.9, 0.8]}\n",
    "# model object\n",
    "model_lsvc = LinearSVC(max_iter=50000)\n",
    "# grid object\n",
    "gs_object_lsvc = GridSearchCV(estimator=model_lsvc, param_grid=grid_lsvc, cv = kfold, n_jobs=-1, verbose=5)\n",
    "# fit on train\n",
    "gs_object_lsvc.fit(X_train, y_train)\n",
    "# predict on train\n",
    "y_train_pred = gs_object_lsvc.predict(X_train)\n",
    "print(f'train accuracy: {accuracy_score(y_train, y_train_pred)}')\n",
    "# predict on test\n",
    "y_test_pred = gs_object_lsvc.predict(X_test)\n",
    "print(f'test accuracy: {accuracy_score(y_test, y_test_pred)}')"
   ]
  },
  {
   "cell_type": "code",
   "execution_count": null,
   "metadata": {},
   "outputs": [],
   "source": [
    "# best params\n",
    "print(f'best_params: {gs_object_lsvc.best_params_}')\n",
    "# best estimator\n",
    "print(f'best_estimator: {gs_object_lsvc.best_estimator_}')"
   ]
  },
  {
   "cell_type": "code",
   "execution_count": 36,
   "metadata": {},
   "outputs": [
    {
     "name": "stdout",
     "output_type": "stream",
     "text": [
      "Fitting 5 folds for each of 1 candidates, totalling 5 fits\n"
     ]
    },
    {
     "name": "stderr",
     "output_type": "stream",
     "text": [
      "[Parallel(n_jobs=-1)]: Using backend LokyBackend with 12 concurrent workers.\n",
      "[Parallel(n_jobs=-1)]: Done   2 out of   5 | elapsed:  1.7min remaining:  2.6min\n",
      "[Parallel(n_jobs=-1)]: Done   5 out of   5 | elapsed:  2.6min finished\n"
     ]
    },
    {
     "name": "stdout",
     "output_type": "stream",
     "text": [
      "\n",
      "\n",
      "best_params: {'C': 1.0, 'penalty': 'l2'}\n",
      "best_estimator: LinearSVC(C=1.0, class_weight=None, dual=True, fit_intercept=True,\n",
      "          intercept_scaling=1, loss='squared_hinge', max_iter=75000,\n",
      "          multi_class='ovr', penalty='l2', random_state=None, tol=0.0001,\n",
      "          verbose=0)\n",
      "train accuracy: 0.6400874180455822\n",
      "test accuracy: 0.6395131404481011\n"
     ]
    }
   ],
   "source": [
    "# grid params\n",
    "grid_lsvc = {'penalty':['l2'], 'C':[1.0]}\n",
    "# model object\n",
    "model_lsvc = LinearSVC(max_iter=75000)\n",
    "# grid object\n",
    "gs_object_lsvc = GridSearchCV(estimator=model_lsvc, param_grid=grid_lsvc, cv = kfold, n_jobs=-1, verbose=5)\n",
    "# fit on train\n",
    "gs_object_lsvc.fit(X_train, y_train)\n",
    "print('\\n')\n",
    "# best params\n",
    "print(f'best_params: {gs_object_lsvc.best_params_}')\n",
    "# best estimator\n",
    "print(f'best_estimator: {gs_object_lsvc.best_estimator_}')\n",
    "# predict on train\n",
    "y_train_pred = gs_object_lsvc.predict(X_train)\n",
    "print(f'train accuracy: {accuracy_score(y_train, y_train_pred)}')\n",
    "# predict on test\n",
    "y_test_pred = gs_object_lsvc.predict(X_test)\n",
    "print(f'test accuracy: {accuracy_score(y_test, y_test_pred)}')"
   ]
  },
  {
   "cell_type": "code",
   "execution_count": null,
   "metadata": {},
   "outputs": [
    {
     "name": "stdout",
     "output_type": "stream",
     "text": [
      "Fitting 5 folds for each of 1 candidates, totalling 5 fits\n"
     ]
    },
    {
     "name": "stderr",
     "output_type": "stream",
     "text": [
      "[Parallel(n_jobs=-1)]: Using backend LokyBackend with 12 concurrent workers.\n",
      "[Parallel(n_jobs=-1)]: Done   2 out of   5 | elapsed:  7.6min remaining: 11.4min\n",
      "[Parallel(n_jobs=-1)]: Done   5 out of   5 | elapsed:  9.0min finished\n"
     ]
    }
   ],
   "source": [
    "from sklearn.svm import LinearSVC\n",
    "from sklearn.preprocessing import StandardScaler\n",
    "scaler = StandardScaler()\n",
    "X_train_scaled = pd.DataFrame(scaler.fit_transform(X_train), columns=X_train.columns)\n",
    "X_test_scaled = pd.DataFrame(scaler.fit_transform(X_test), columns=X_test.columns)\n",
    "\n",
    "# grid params\n",
    "grid_lsvc = {'penalty':['l2'], 'C':[1.0]}\n",
    "# model object\n",
    "model_lsvc = LinearSVC(max_iter=75000)\n",
    "# grid object\n",
    "gs_object_lsvc = GridSearchCV(estimator=model_lsvc, param_grid=grid_lsvc, n_jobs=-1, cv = kfold, verbose=5)\n",
    "# fit on train\n",
    "gs_object_lsvc.fit(X_train_scaled, y_train)\n",
    "print('\\n')\n",
    "# best params\n",
    "print(f'best_params: {gs_object_lsvc.best_params_}')\n",
    "# best estimator\n",
    "print(f'best_estimator: {gs_object_lsvc.best_estimator_}')\n",
    "# predict on train\n",
    "y_train_pred = gs_object_lsvc.predict(X_train_scaled)\n",
    "print(f'train accuracy: {accuracy_score(y_train, y_train_pred)}')\n",
    "# predict on test\n",
    "y_test_pred = gs_object_lsvc.predict(X_test_scaled)\n",
    "print(f'test accuracy: {accuracy_score(y_test, y_test_pred)}')"
   ]
  },
  {
   "cell_type": "markdown",
   "metadata": {},
   "source": [
    "## K Nearest Neighbors Classifier"
   ]
  },
  {
   "cell_type": "code",
   "execution_count": null,
   "metadata": {},
   "outputs": [],
   "source": [
    "## plain vanilla\n",
    "from sklearn.neighbors import KNeighborsClassifier\n",
    "knn = KNeighborsClassifier(n_neighbors=3)\n",
    "knn.fit(X_train, y_train)\n",
    "y_train_pred = knn.predict(X_train)\n",
    "print(f'train accuracy: {accuracy_score(y_train, y_train_pred)}')\n",
    "y_test_pred = knn.predict(X_test)\n",
    "print(f'test accuracy: {accuracy_score(y_test, y_test_pred)}')"
   ]
  },
  {
   "cell_type": "code",
   "execution_count": null,
   "metadata": {},
   "outputs": [],
   "source": [
    "# grid params\n",
    "grid_knn = {'loss':[str, 'hinge', 'squared_hinge'], 'algorithm':['auto', 'ball_tree', 'kd_tree', 'brute'], 'p':[1,2]}\n",
    "# model object\n",
    "model_knn = KNeighborsClassifier()\n",
    "# grid object\n",
    "gs_object_knn = GridSearchCV(estimator=model_knn, param_grid=grid_knn, cv = kfold, n_jobs=-3, verbose=5)\n",
    "# fit on train\n",
    "gs_object_knn.fit(X_train, y_train)\n",
    "# predict on train\n",
    "y_train_pred = gs_object_knn.predict(X_train)\n",
    "print(f'train accuracy: {accuracy_score(y_train, y_train_pred)}')\n",
    "# predict on test\n",
    "y_test_pred = gs_object_knn.predict(X_test)\n",
    "print(f'test accuracy: {accuracy_score(y_test, y_test_pred)}')"
   ]
  },
  {
   "cell_type": "code",
   "execution_count": 39,
   "metadata": {},
   "outputs": [
    {
     "name": "stdout",
     "output_type": "stream",
     "text": [
      "train accuracy: 1.0\n",
      "test accuracy: 0.6265596844932513\n"
     ]
    }
   ],
   "source": [
    "from sklearn.tree import DecisionTreeClassifier \n",
    "model_dt = DecisionTreeClassifier()\n",
    "model_dt.fit(X_train, y_train)\n",
    "y_train_pred = model_dt.predict(X_train)\n",
    "print(f'train accuracy: {accuracy_score(y_train, y_train_pred)}')\n",
    "y_test_pred = model_dt.predict(X_test)\n",
    "print(f'test accuracy: {accuracy_score(y_test, y_test_pred)}')"
   ]
  },
  {
   "cell_type": "code",
   "execution_count": 41,
   "metadata": {},
   "outputs": [
    {
     "name": "stdout",
     "output_type": "stream",
     "text": [
      "train accuracy: 1.0\n",
      "test accuracy: 0.7086662360180872\n"
     ]
    }
   ],
   "source": [
    "from sklearn.ensemble import RandomForestClassifier\n",
    "random_forest = RandomForestClassifier(n_estimators=100, oob_score=True)\n",
    "random_forest.fit(X_train, y_train)\n",
    "y_train_pred = random_forest.predict(X_train)\n",
    "print(f'train accuracy: {accuracy_score(y_train, y_train_pred)}')\n",
    "y_test_pred = random_forest.predict(X_test)\n",
    "print(f'test accuracy: {accuracy_score(y_test, y_test_pred)}')"
   ]
  },
  {
   "cell_type": "code",
   "execution_count": 42,
   "metadata": {},
   "outputs": [
    {
     "name": "stdout",
     "output_type": "stream",
     "text": [
      "train accuracy: 1.0\n",
      "test accuracy: 0.7095841974637065\n"
     ]
    }
   ],
   "source": [
    "from sklearn.ensemble import RandomForestClassifier\n",
    "random_forest = RandomForestClassifier(n_estimators=100, oob_score=True)\n",
    "random_forest.fit(X_train_scaled, y_train)\n",
    "y_train_pred = random_forest.predict(X_train_scaled)\n",
    "print(f'train accuracy: {accuracy_score(y_train, y_train_pred)}')\n",
    "y_test_pred = random_forest.predict(X_test_scaled)\n",
    "print(f'test accuracy: {accuracy_score(y_test, y_test_pred)}')"
   ]
  },
  {
   "cell_type": "code",
   "execution_count": null,
   "metadata": {},
   "outputs": [],
   "source": [
    "prediction = pd.DataFrame(y_test_pred, columns=['predictions'])\n",
    "id = pd.DataFrame(test_raw['id'], columns=['id'])\n",
    "output = pd.concat([id, prediction], axis=1).to_csv('output/prediction_2.csv', index=None)"
   ]
  }
 ],
 "metadata": {
  "kernelspec": {
   "display_name": "Python 3.7.4 64-bit ('env_datascience': venv)",
   "language": "python",
   "name": "python37464bitenvdatasciencevenv251b518b85614e7fac722d7caf80564f"
  },
  "language_info": {
   "codemirror_mode": {
    "name": "ipython",
    "version": 3
   },
   "file_extension": ".py",
   "mimetype": "text/x-python",
   "name": "python",
   "nbconvert_exporter": "python",
   "pygments_lexer": "ipython3",
   "version": "3.7.6"
  }
 },
 "nbformat": 4,
 "nbformat_minor": 4
}
